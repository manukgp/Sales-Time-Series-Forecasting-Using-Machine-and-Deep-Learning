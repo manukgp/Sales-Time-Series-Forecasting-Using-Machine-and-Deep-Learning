{
 "cells": [
  {
   "cell_type": "markdown",
   "metadata": {
    "id": "oj-icd-0aq5K"
   },
   "source": [
    "# **Importing Modules**"
   ]
  },
  {
   "cell_type": "code",
   "execution_count": 1,
   "metadata": {
    "id": "vvrlVQ6WsyNT"
   },
   "outputs": [],
   "source": [
    "import numpy as np\n",
    "import pandas as pd\n",
    "\n",
    "import matplotlib.pyplot as plt\n",
    "import seaborn as sns\n",
    "\n",
    "from scipy import stats\n",
    "import statsmodels.api as sm\n",
    "\n",
    "from sklearn.preprocessing import MinMaxScaler\n",
    "\n",
    "import pickle \n",
    "from os import path\n",
    "\n",
    "from sklearn import metrics\n",
    "from sklearn.model_selection import train_test_split \n",
    "from sklearn.linear_model import LinearRegression\n",
    "from sklearn.ensemble import RandomForestRegressor\n",
    "from sklearn.neighbors import KNeighborsRegressor\n",
    "from xgboost import XGBRegressor\n",
    "\n",
    "from keras.models import Sequential\n",
    "from keras.layers import Dense\n",
    "from keras.wrappers.scikit_learn import KerasRegressor"
   ]
  },
  {
   "cell_type": "markdown",
   "metadata": {
    "id": "KZ2WF0FhahKp"
   },
   "source": [
    "# **Importing Datasets**"
   ]
  },
  {
   "cell_type": "code",
   "execution_count": 2,
   "metadata": {
    "id": "JtVinCrYuxYm"
   },
   "outputs": [],
   "source": [
    "#data = pd.read_csv('/content/drive/MyDrive/walmart-recruiting-store-sales-forecasting/train.csv')\n",
    "#stores = pd.read_csv('/content/drive/MyDrive/walmart-recruiting-store-sales-forecasting/stores.csv')\n",
    "#features = pd.read_csv('/content/drive/MyDrive/walmart-recruiting-store-sales-forecasting/features.csv')\n",
    "\n",
    "data = pd.read_csv('datasets/train.csv')\n",
    "stores = pd.read_csv('datasets/stores.csv')\n",
    "features = pd.read_csv('datasets/features.csv')"
   ]
  },
  {
   "cell_type": "markdown",
   "metadata": {
    "id": "ksVRHjFKayfh"
   },
   "source": [
    "**Training Dataset**"
   ]
  },
  {
   "cell_type": "code",
   "execution_count": 3,
   "metadata": {
    "colab": {
     "base_uri": "https://localhost:8080/"
    },
    "id": "y3LYEom3-Vjo",
    "outputId": "8a7d82e2-e7bd-4820-8d74-4ea6ea04e237"
   },
   "outputs": [
    {
     "data": {
      "text/plain": [
       "(421570, 5)"
      ]
     },
     "execution_count": 3,
     "metadata": {},
     "output_type": "execute_result"
    }
   ],
   "source": [
    "data.shape"
   ]
  },
  {
   "cell_type": "code",
   "execution_count": 4,
   "metadata": {
    "colab": {
     "base_uri": "https://localhost:8080/",
     "height": 204
    },
    "id": "jzBOOW2AVvpS",
    "outputId": "ab730d6a-1f34-4dab-e91a-4fbe8927ccfa"
   },
   "outputs": [
    {
     "data": {
      "text/html": [
       "<div>\n",
       "<style scoped>\n",
       "    .dataframe tbody tr th:only-of-type {\n",
       "        vertical-align: middle;\n",
       "    }\n",
       "\n",
       "    .dataframe tbody tr th {\n",
       "        vertical-align: top;\n",
       "    }\n",
       "\n",
       "    .dataframe thead th {\n",
       "        text-align: right;\n",
       "    }\n",
       "</style>\n",
       "<table border=\"1\" class=\"dataframe\">\n",
       "  <thead>\n",
       "    <tr style=\"text-align: right;\">\n",
       "      <th></th>\n",
       "      <th>Store</th>\n",
       "      <th>Dept</th>\n",
       "      <th>Date</th>\n",
       "      <th>Weekly_Sales</th>\n",
       "      <th>IsHoliday</th>\n",
       "    </tr>\n",
       "  </thead>\n",
       "  <tbody>\n",
       "    <tr>\n",
       "      <th>421565</th>\n",
       "      <td>45</td>\n",
       "      <td>98</td>\n",
       "      <td>2012-09-28</td>\n",
       "      <td>508.37</td>\n",
       "      <td>False</td>\n",
       "    </tr>\n",
       "    <tr>\n",
       "      <th>421566</th>\n",
       "      <td>45</td>\n",
       "      <td>98</td>\n",
       "      <td>2012-10-05</td>\n",
       "      <td>628.10</td>\n",
       "      <td>False</td>\n",
       "    </tr>\n",
       "    <tr>\n",
       "      <th>421567</th>\n",
       "      <td>45</td>\n",
       "      <td>98</td>\n",
       "      <td>2012-10-12</td>\n",
       "      <td>1061.02</td>\n",
       "      <td>False</td>\n",
       "    </tr>\n",
       "    <tr>\n",
       "      <th>421568</th>\n",
       "      <td>45</td>\n",
       "      <td>98</td>\n",
       "      <td>2012-10-19</td>\n",
       "      <td>760.01</td>\n",
       "      <td>False</td>\n",
       "    </tr>\n",
       "    <tr>\n",
       "      <th>421569</th>\n",
       "      <td>45</td>\n",
       "      <td>98</td>\n",
       "      <td>2012-10-26</td>\n",
       "      <td>1076.80</td>\n",
       "      <td>False</td>\n",
       "    </tr>\n",
       "  </tbody>\n",
       "</table>\n",
       "</div>"
      ],
      "text/plain": [
       "        Store  Dept        Date  Weekly_Sales  IsHoliday\n",
       "421565     45    98  2012-09-28        508.37      False\n",
       "421566     45    98  2012-10-05        628.10      False\n",
       "421567     45    98  2012-10-12       1061.02      False\n",
       "421568     45    98  2012-10-19        760.01      False\n",
       "421569     45    98  2012-10-26       1076.80      False"
      ]
     },
     "execution_count": 4,
     "metadata": {},
     "output_type": "execute_result"
    }
   ],
   "source": [
    "data.tail()"
   ]
  },
  {
   "cell_type": "code",
   "execution_count": 5,
   "metadata": {
    "colab": {
     "base_uri": "https://localhost:8080/"
    },
    "id": "gAUUOxCDXArR",
    "outputId": "5c24b60d-1db6-432c-b1ba-40a4c4d60b27"
   },
   "outputs": [
    {
     "name": "stdout",
     "output_type": "stream",
     "text": [
      "<class 'pandas.core.frame.DataFrame'>\n",
      "RangeIndex: 421570 entries, 0 to 421569\n",
      "Data columns (total 5 columns):\n",
      " #   Column        Non-Null Count   Dtype  \n",
      "---  ------        --------------   -----  \n",
      " 0   Store         421570 non-null  int64  \n",
      " 1   Dept          421570 non-null  int64  \n",
      " 2   Date          421570 non-null  object \n",
      " 3   Weekly_Sales  421570 non-null  float64\n",
      " 4   IsHoliday     421570 non-null  bool   \n",
      "dtypes: bool(1), float64(1), int64(2), object(1)\n",
      "memory usage: 13.3+ MB\n"
     ]
    }
   ],
   "source": [
    "data.info()"
   ]
  },
  {
   "cell_type": "markdown",
   "metadata": {
    "id": "1hRV2Rk2a9Bp"
   },
   "source": [
    "**Dataset containing info of Stores**"
   ]
  },
  {
   "cell_type": "code",
   "execution_count": 6,
   "metadata": {
    "colab": {
     "base_uri": "https://localhost:8080/"
    },
    "id": "2Y0kgIl8-gfU",
    "outputId": "899acd78-6e38-43c3-a8a2-bf1173e7251a"
   },
   "outputs": [
    {
     "data": {
      "text/plain": [
       "(45, 3)"
      ]
     },
     "execution_count": 6,
     "metadata": {},
     "output_type": "execute_result"
    }
   ],
   "source": [
    "stores.shape"
   ]
  },
  {
   "cell_type": "code",
   "execution_count": 7,
   "metadata": {
    "colab": {
     "base_uri": "https://localhost:8080/",
     "height": 204
    },
    "id": "U0AtdXbSVcSZ",
    "outputId": "b38c6051-0d3b-491a-d3c5-22b6d0b10dbe"
   },
   "outputs": [
    {
     "data": {
      "text/html": [
       "<div>\n",
       "<style scoped>\n",
       "    .dataframe tbody tr th:only-of-type {\n",
       "        vertical-align: middle;\n",
       "    }\n",
       "\n",
       "    .dataframe tbody tr th {\n",
       "        vertical-align: top;\n",
       "    }\n",
       "\n",
       "    .dataframe thead th {\n",
       "        text-align: right;\n",
       "    }\n",
       "</style>\n",
       "<table border=\"1\" class=\"dataframe\">\n",
       "  <thead>\n",
       "    <tr style=\"text-align: right;\">\n",
       "      <th></th>\n",
       "      <th>Store</th>\n",
       "      <th>Type</th>\n",
       "      <th>Size</th>\n",
       "    </tr>\n",
       "  </thead>\n",
       "  <tbody>\n",
       "    <tr>\n",
       "      <th>40</th>\n",
       "      <td>41</td>\n",
       "      <td>A</td>\n",
       "      <td>196321</td>\n",
       "    </tr>\n",
       "    <tr>\n",
       "      <th>41</th>\n",
       "      <td>42</td>\n",
       "      <td>C</td>\n",
       "      <td>39690</td>\n",
       "    </tr>\n",
       "    <tr>\n",
       "      <th>42</th>\n",
       "      <td>43</td>\n",
       "      <td>C</td>\n",
       "      <td>41062</td>\n",
       "    </tr>\n",
       "    <tr>\n",
       "      <th>43</th>\n",
       "      <td>44</td>\n",
       "      <td>C</td>\n",
       "      <td>39910</td>\n",
       "    </tr>\n",
       "    <tr>\n",
       "      <th>44</th>\n",
       "      <td>45</td>\n",
       "      <td>B</td>\n",
       "      <td>118221</td>\n",
       "    </tr>\n",
       "  </tbody>\n",
       "</table>\n",
       "</div>"
      ],
      "text/plain": [
       "    Store Type    Size\n",
       "40     41    A  196321\n",
       "41     42    C   39690\n",
       "42     43    C   41062\n",
       "43     44    C   39910\n",
       "44     45    B  118221"
      ]
     },
     "execution_count": 7,
     "metadata": {},
     "output_type": "execute_result"
    }
   ],
   "source": [
    "stores.tail()"
   ]
  },
  {
   "cell_type": "code",
   "execution_count": 8,
   "metadata": {
    "colab": {
     "base_uri": "https://localhost:8080/"
    },
    "id": "evzfc9sWWNBJ",
    "outputId": "a6eefcf9-66ac-4629-cb24-06cda3ddfb20"
   },
   "outputs": [
    {
     "name": "stdout",
     "output_type": "stream",
     "text": [
      "<class 'pandas.core.frame.DataFrame'>\n",
      "RangeIndex: 45 entries, 0 to 44\n",
      "Data columns (total 3 columns):\n",
      " #   Column  Non-Null Count  Dtype \n",
      "---  ------  --------------  ----- \n",
      " 0   Store   45 non-null     int64 \n",
      " 1   Type    45 non-null     object\n",
      " 2   Size    45 non-null     int64 \n",
      "dtypes: int64(2), object(1)\n",
      "memory usage: 1.2+ KB\n"
     ]
    }
   ],
   "source": [
    "stores.info()"
   ]
  },
  {
   "cell_type": "markdown",
   "metadata": {
    "id": "V2zLqC_bbKES"
   },
   "source": [
    "**Dataset containing additional data of Stores**"
   ]
  },
  {
   "cell_type": "code",
   "execution_count": 9,
   "metadata": {
    "colab": {
     "base_uri": "https://localhost:8080/"
    },
    "id": "MBlbAUCH-svS",
    "outputId": "b181e1d8-0336-4799-9793-5a194d5735ef"
   },
   "outputs": [
    {
     "data": {
      "text/plain": [
       "(8190, 12)"
      ]
     },
     "execution_count": 9,
     "metadata": {},
     "output_type": "execute_result"
    }
   ],
   "source": [
    "features.shape"
   ]
  },
  {
   "cell_type": "code",
   "execution_count": 10,
   "metadata": {
    "colab": {
     "base_uri": "https://localhost:8080/",
     "height": 309
    },
    "id": "jbDqtkNvyHmO",
    "outputId": "ee6fe6b6-0761-401a-914b-589df88315af"
   },
   "outputs": [
    {
     "data": {
      "text/html": [
       "<div>\n",
       "<style scoped>\n",
       "    .dataframe tbody tr th:only-of-type {\n",
       "        vertical-align: middle;\n",
       "    }\n",
       "\n",
       "    .dataframe tbody tr th {\n",
       "        vertical-align: top;\n",
       "    }\n",
       "\n",
       "    .dataframe thead th {\n",
       "        text-align: right;\n",
       "    }\n",
       "</style>\n",
       "<table border=\"1\" class=\"dataframe\">\n",
       "  <thead>\n",
       "    <tr style=\"text-align: right;\">\n",
       "      <th></th>\n",
       "      <th>Store</th>\n",
       "      <th>Date</th>\n",
       "      <th>Temperature</th>\n",
       "      <th>Fuel_Price</th>\n",
       "      <th>MarkDown1</th>\n",
       "      <th>MarkDown2</th>\n",
       "      <th>MarkDown3</th>\n",
       "      <th>MarkDown4</th>\n",
       "      <th>MarkDown5</th>\n",
       "      <th>CPI</th>\n",
       "      <th>Unemployment</th>\n",
       "      <th>IsHoliday</th>\n",
       "    </tr>\n",
       "  </thead>\n",
       "  <tbody>\n",
       "    <tr>\n",
       "      <th>8185</th>\n",
       "      <td>45</td>\n",
       "      <td>2013-06-28</td>\n",
       "      <td>76.05</td>\n",
       "      <td>3.639</td>\n",
       "      <td>4842.29</td>\n",
       "      <td>975.03</td>\n",
       "      <td>3.00</td>\n",
       "      <td>2449.97</td>\n",
       "      <td>3169.69</td>\n",
       "      <td>NaN</td>\n",
       "      <td>NaN</td>\n",
       "      <td>False</td>\n",
       "    </tr>\n",
       "    <tr>\n",
       "      <th>8186</th>\n",
       "      <td>45</td>\n",
       "      <td>2013-07-05</td>\n",
       "      <td>77.50</td>\n",
       "      <td>3.614</td>\n",
       "      <td>9090.48</td>\n",
       "      <td>2268.58</td>\n",
       "      <td>582.74</td>\n",
       "      <td>5797.47</td>\n",
       "      <td>1514.93</td>\n",
       "      <td>NaN</td>\n",
       "      <td>NaN</td>\n",
       "      <td>False</td>\n",
       "    </tr>\n",
       "    <tr>\n",
       "      <th>8187</th>\n",
       "      <td>45</td>\n",
       "      <td>2013-07-12</td>\n",
       "      <td>79.37</td>\n",
       "      <td>3.614</td>\n",
       "      <td>3789.94</td>\n",
       "      <td>1827.31</td>\n",
       "      <td>85.72</td>\n",
       "      <td>744.84</td>\n",
       "      <td>2150.36</td>\n",
       "      <td>NaN</td>\n",
       "      <td>NaN</td>\n",
       "      <td>False</td>\n",
       "    </tr>\n",
       "    <tr>\n",
       "      <th>8188</th>\n",
       "      <td>45</td>\n",
       "      <td>2013-07-19</td>\n",
       "      <td>82.84</td>\n",
       "      <td>3.737</td>\n",
       "      <td>2961.49</td>\n",
       "      <td>1047.07</td>\n",
       "      <td>204.19</td>\n",
       "      <td>363.00</td>\n",
       "      <td>1059.46</td>\n",
       "      <td>NaN</td>\n",
       "      <td>NaN</td>\n",
       "      <td>False</td>\n",
       "    </tr>\n",
       "    <tr>\n",
       "      <th>8189</th>\n",
       "      <td>45</td>\n",
       "      <td>2013-07-26</td>\n",
       "      <td>76.06</td>\n",
       "      <td>3.804</td>\n",
       "      <td>212.02</td>\n",
       "      <td>851.73</td>\n",
       "      <td>2.06</td>\n",
       "      <td>10.88</td>\n",
       "      <td>1864.57</td>\n",
       "      <td>NaN</td>\n",
       "      <td>NaN</td>\n",
       "      <td>False</td>\n",
       "    </tr>\n",
       "  </tbody>\n",
       "</table>\n",
       "</div>"
      ],
      "text/plain": [
       "      Store        Date  Temperature  Fuel_Price  MarkDown1  MarkDown2  \\\n",
       "8185     45  2013-06-28        76.05       3.639    4842.29     975.03   \n",
       "8186     45  2013-07-05        77.50       3.614    9090.48    2268.58   \n",
       "8187     45  2013-07-12        79.37       3.614    3789.94    1827.31   \n",
       "8188     45  2013-07-19        82.84       3.737    2961.49    1047.07   \n",
       "8189     45  2013-07-26        76.06       3.804     212.02     851.73   \n",
       "\n",
       "      MarkDown3  MarkDown4  MarkDown5  CPI  Unemployment  IsHoliday  \n",
       "8185       3.00    2449.97    3169.69  NaN           NaN      False  \n",
       "8186     582.74    5797.47    1514.93  NaN           NaN      False  \n",
       "8187      85.72     744.84    2150.36  NaN           NaN      False  \n",
       "8188     204.19     363.00    1059.46  NaN           NaN      False  \n",
       "8189       2.06      10.88    1864.57  NaN           NaN      False  "
      ]
     },
     "execution_count": 10,
     "metadata": {},
     "output_type": "execute_result"
    }
   ],
   "source": [
    "features.tail()"
   ]
  },
  {
   "cell_type": "code",
   "execution_count": 11,
   "metadata": {
    "colab": {
     "base_uri": "https://localhost:8080/"
    },
    "id": "8rxvv5EXvGC2",
    "outputId": "5ca21e37-527b-415a-9560-a9095ebd830a"
   },
   "outputs": [
    {
     "name": "stdout",
     "output_type": "stream",
     "text": [
      "<class 'pandas.core.frame.DataFrame'>\n",
      "RangeIndex: 8190 entries, 0 to 8189\n",
      "Data columns (total 12 columns):\n",
      " #   Column        Non-Null Count  Dtype  \n",
      "---  ------        --------------  -----  \n",
      " 0   Store         8190 non-null   int64  \n",
      " 1   Date          8190 non-null   object \n",
      " 2   Temperature   8190 non-null   float64\n",
      " 3   Fuel_Price    8190 non-null   float64\n",
      " 4   MarkDown1     4032 non-null   float64\n",
      " 5   MarkDown2     2921 non-null   float64\n",
      " 6   MarkDown3     3613 non-null   float64\n",
      " 7   MarkDown4     3464 non-null   float64\n",
      " 8   MarkDown5     4050 non-null   float64\n",
      " 9   CPI           7605 non-null   float64\n",
      " 10  Unemployment  7605 non-null   float64\n",
      " 11  IsHoliday     8190 non-null   bool   \n",
      "dtypes: bool(1), float64(9), int64(1), object(1)\n",
      "memory usage: 712.0+ KB\n"
     ]
    }
   ],
   "source": [
    "features.info()"
   ]
  },
  {
   "cell_type": "markdown",
   "metadata": {
    "id": "_76jr8tSbToB"
   },
   "source": [
    "# **Handling missing values of features dataset**"
   ]
  },
  {
   "cell_type": "code",
   "execution_count": 12,
   "metadata": {
    "id": "nMF5xdd0VpvK"
   },
   "outputs": [],
   "source": [
    "features[\"CPI\"].fillna(features[\"CPI\"].median(),inplace=True)\n",
    "features[\"Unemployment\"].fillna(features[\"Unemployment\"].median(),inplace=True)"
   ]
  },
  {
   "cell_type": "code",
   "execution_count": 13,
   "metadata": {
    "id": "exwvbWzPCf4m"
   },
   "outputs": [],
   "source": [
    "for i in range(1,6):\n",
    "  features[\"MarkDown\"+str(i)] = features[\"MarkDown\"+str(i)].apply(lambda x: 0 if x < 0 else x)\n",
    "  features[\"MarkDown\"+str(i)].fillna(value=0,inplace=True)"
   ]
  },
  {
   "cell_type": "code",
   "execution_count": 14,
   "metadata": {
    "colab": {
     "base_uri": "https://localhost:8080/"
    },
    "id": "jZvfO8zbaF95",
    "outputId": "3a679a85-e510-4bfe-bfaa-6c84e62d6391"
   },
   "outputs": [
    {
     "name": "stdout",
     "output_type": "stream",
     "text": [
      "<class 'pandas.core.frame.DataFrame'>\n",
      "RangeIndex: 8190 entries, 0 to 8189\n",
      "Data columns (total 12 columns):\n",
      " #   Column        Non-Null Count  Dtype  \n",
      "---  ------        --------------  -----  \n",
      " 0   Store         8190 non-null   int64  \n",
      " 1   Date          8190 non-null   object \n",
      " 2   Temperature   8190 non-null   float64\n",
      " 3   Fuel_Price    8190 non-null   float64\n",
      " 4   MarkDown1     8190 non-null   float64\n",
      " 5   MarkDown2     8190 non-null   float64\n",
      " 6   MarkDown3     8190 non-null   float64\n",
      " 7   MarkDown4     8190 non-null   float64\n",
      " 8   MarkDown5     8190 non-null   float64\n",
      " 9   CPI           8190 non-null   float64\n",
      " 10  Unemployment  8190 non-null   float64\n",
      " 11  IsHoliday     8190 non-null   bool   \n",
      "dtypes: bool(1), float64(9), int64(1), object(1)\n",
      "memory usage: 712.0+ KB\n"
     ]
    }
   ],
   "source": [
    "features.info()"
   ]
  },
  {
   "cell_type": "markdown",
   "metadata": {
    "id": "yZB3xirLeVuM"
   },
   "source": [
    "# **Merging Training Dataset and merged stores-features Dataset**"
   ]
  },
  {
   "cell_type": "code",
   "execution_count": 15,
   "metadata": {
    "id": "Ro3I2UxQ-5ie"
   },
   "outputs": [],
   "source": [
    "data = pd.merge(data,stores,on='Store',how='left')"
   ]
  },
  {
   "cell_type": "code",
   "execution_count": 16,
   "metadata": {
    "id": "xL18dRSk_sh9"
   },
   "outputs": [],
   "source": [
    "data = pd.merge(data,features,on=['Store','Date'],how='left')"
   ]
  },
  {
   "cell_type": "code",
   "execution_count": 17,
   "metadata": {
    "id": "OI0d3G8iBK2x"
   },
   "outputs": [],
   "source": [
    "data['Date'] = pd.to_datetime(data['Date'])"
   ]
  },
  {
   "cell_type": "code",
   "execution_count": 18,
   "metadata": {
    "id": "QC1Lks2sA0ML"
   },
   "outputs": [],
   "source": [
    "data.sort_values(by=['Date'],inplace=True)"
   ]
  },
  {
   "cell_type": "code",
   "execution_count": 19,
   "metadata": {
    "id": "h8L4zabZAjDX"
   },
   "outputs": [],
   "source": [
    "data.set_index(data.Date, inplace=True)"
   ]
  },
  {
   "cell_type": "code",
   "execution_count": 20,
   "metadata": {
    "colab": {
     "base_uri": "https://localhost:8080/"
    },
    "id": "qWwnk9QIdbuK",
    "outputId": "0860cbf6-6229-4f1f-ae40-8cf09eeee6c3"
   },
   "outputs": [
    {
     "data": {
      "text/plain": [
       "True"
      ]
     },
     "execution_count": 20,
     "metadata": {},
     "output_type": "execute_result"
    }
   ],
   "source": [
    "data['IsHoliday_x'].isin(data['IsHoliday_y']).all()"
   ]
  },
  {
   "cell_type": "code",
   "execution_count": 21,
   "metadata": {
    "colab": {
     "base_uri": "https://localhost:8080/"
    },
    "id": "wjKYlcHjdn7o",
    "outputId": "8259a632-725c-492a-c1d9-f614e5535202"
   },
   "outputs": [
    {
     "name": "stdout",
     "output_type": "stream",
     "text": [
      "<class 'pandas.core.frame.DataFrame'>\n",
      "DatetimeIndex: 421570 entries, 2010-02-05 to 2012-10-26\n",
      "Data columns (total 16 columns):\n",
      " #   Column        Non-Null Count   Dtype         \n",
      "---  ------        --------------   -----         \n",
      " 0   Store         421570 non-null  int64         \n",
      " 1   Dept          421570 non-null  int64         \n",
      " 2   Date          421570 non-null  datetime64[ns]\n",
      " 3   Weekly_Sales  421570 non-null  float64       \n",
      " 4   Type          421570 non-null  object        \n",
      " 5   Size          421570 non-null  int64         \n",
      " 6   Temperature   421570 non-null  float64       \n",
      " 7   Fuel_Price    421570 non-null  float64       \n",
      " 8   MarkDown1     421570 non-null  float64       \n",
      " 9   MarkDown2     421570 non-null  float64       \n",
      " 10  MarkDown3     421570 non-null  float64       \n",
      " 11  MarkDown4     421570 non-null  float64       \n",
      " 12  MarkDown5     421570 non-null  float64       \n",
      " 13  CPI           421570 non-null  float64       \n",
      " 14  Unemployment  421570 non-null  float64       \n",
      " 15  IsHoliday     421570 non-null  bool          \n",
      "dtypes: bool(1), datetime64[ns](1), float64(10), int64(3), object(1)\n",
      "memory usage: 51.9+ MB\n"
     ]
    }
   ],
   "source": [
    "data.drop(columns='IsHoliday_x',inplace=True)\n",
    "data.rename(columns={\"IsHoliday_y\" : \"IsHoliday\"}, inplace=True)\n",
    "data.info()"
   ]
  },
  {
   "cell_type": "code",
   "execution_count": 22,
   "metadata": {
    "colab": {
     "base_uri": "https://localhost:8080/",
     "height": 340
    },
    "id": "S0g-tYhje7bR",
    "outputId": "0f8ac63b-9b5d-491f-f26b-daafc1902110"
   },
   "outputs": [
    {
     "data": {
      "text/html": [
       "<div>\n",
       "<style scoped>\n",
       "    .dataframe tbody tr th:only-of-type {\n",
       "        vertical-align: middle;\n",
       "    }\n",
       "\n",
       "    .dataframe tbody tr th {\n",
       "        vertical-align: top;\n",
       "    }\n",
       "\n",
       "    .dataframe thead th {\n",
       "        text-align: right;\n",
       "    }\n",
       "</style>\n",
       "<table border=\"1\" class=\"dataframe\">\n",
       "  <thead>\n",
       "    <tr style=\"text-align: right;\">\n",
       "      <th></th>\n",
       "      <th>Store</th>\n",
       "      <th>Dept</th>\n",
       "      <th>Date</th>\n",
       "      <th>Weekly_Sales</th>\n",
       "      <th>Type</th>\n",
       "      <th>Size</th>\n",
       "      <th>Temperature</th>\n",
       "      <th>Fuel_Price</th>\n",
       "      <th>MarkDown1</th>\n",
       "      <th>MarkDown2</th>\n",
       "      <th>MarkDown3</th>\n",
       "      <th>MarkDown4</th>\n",
       "      <th>MarkDown5</th>\n",
       "      <th>CPI</th>\n",
       "      <th>Unemployment</th>\n",
       "      <th>IsHoliday</th>\n",
       "    </tr>\n",
       "    <tr>\n",
       "      <th>Date</th>\n",
       "      <th></th>\n",
       "      <th></th>\n",
       "      <th></th>\n",
       "      <th></th>\n",
       "      <th></th>\n",
       "      <th></th>\n",
       "      <th></th>\n",
       "      <th></th>\n",
       "      <th></th>\n",
       "      <th></th>\n",
       "      <th></th>\n",
       "      <th></th>\n",
       "      <th></th>\n",
       "      <th></th>\n",
       "      <th></th>\n",
       "      <th></th>\n",
       "    </tr>\n",
       "  </thead>\n",
       "  <tbody>\n",
       "    <tr>\n",
       "      <th>2010-02-05</th>\n",
       "      <td>1</td>\n",
       "      <td>1</td>\n",
       "      <td>2010-02-05</td>\n",
       "      <td>24924.50</td>\n",
       "      <td>A</td>\n",
       "      <td>151315</td>\n",
       "      <td>42.31</td>\n",
       "      <td>2.572</td>\n",
       "      <td>0.0</td>\n",
       "      <td>0.0</td>\n",
       "      <td>0.0</td>\n",
       "      <td>0.0</td>\n",
       "      <td>0.0</td>\n",
       "      <td>211.096358</td>\n",
       "      <td>8.106</td>\n",
       "      <td>False</td>\n",
       "    </tr>\n",
       "    <tr>\n",
       "      <th>2010-02-05</th>\n",
       "      <td>29</td>\n",
       "      <td>5</td>\n",
       "      <td>2010-02-05</td>\n",
       "      <td>15552.08</td>\n",
       "      <td>B</td>\n",
       "      <td>93638</td>\n",
       "      <td>24.36</td>\n",
       "      <td>2.788</td>\n",
       "      <td>0.0</td>\n",
       "      <td>0.0</td>\n",
       "      <td>0.0</td>\n",
       "      <td>0.0</td>\n",
       "      <td>0.0</td>\n",
       "      <td>131.527903</td>\n",
       "      <td>10.064</td>\n",
       "      <td>False</td>\n",
       "    </tr>\n",
       "    <tr>\n",
       "      <th>2010-02-05</th>\n",
       "      <td>29</td>\n",
       "      <td>6</td>\n",
       "      <td>2010-02-05</td>\n",
       "      <td>3200.22</td>\n",
       "      <td>B</td>\n",
       "      <td>93638</td>\n",
       "      <td>24.36</td>\n",
       "      <td>2.788</td>\n",
       "      <td>0.0</td>\n",
       "      <td>0.0</td>\n",
       "      <td>0.0</td>\n",
       "      <td>0.0</td>\n",
       "      <td>0.0</td>\n",
       "      <td>131.527903</td>\n",
       "      <td>10.064</td>\n",
       "      <td>False</td>\n",
       "    </tr>\n",
       "    <tr>\n",
       "      <th>2010-02-05</th>\n",
       "      <td>29</td>\n",
       "      <td>7</td>\n",
       "      <td>2010-02-05</td>\n",
       "      <td>10820.05</td>\n",
       "      <td>B</td>\n",
       "      <td>93638</td>\n",
       "      <td>24.36</td>\n",
       "      <td>2.788</td>\n",
       "      <td>0.0</td>\n",
       "      <td>0.0</td>\n",
       "      <td>0.0</td>\n",
       "      <td>0.0</td>\n",
       "      <td>0.0</td>\n",
       "      <td>131.527903</td>\n",
       "      <td>10.064</td>\n",
       "      <td>False</td>\n",
       "    </tr>\n",
       "    <tr>\n",
       "      <th>2010-02-05</th>\n",
       "      <td>29</td>\n",
       "      <td>8</td>\n",
       "      <td>2010-02-05</td>\n",
       "      <td>20055.64</td>\n",
       "      <td>B</td>\n",
       "      <td>93638</td>\n",
       "      <td>24.36</td>\n",
       "      <td>2.788</td>\n",
       "      <td>0.0</td>\n",
       "      <td>0.0</td>\n",
       "      <td>0.0</td>\n",
       "      <td>0.0</td>\n",
       "      <td>0.0</td>\n",
       "      <td>131.527903</td>\n",
       "      <td>10.064</td>\n",
       "      <td>False</td>\n",
       "    </tr>\n",
       "  </tbody>\n",
       "</table>\n",
       "</div>"
      ],
      "text/plain": [
       "            Store  Dept       Date  Weekly_Sales Type    Size  Temperature  \\\n",
       "Date                                                                         \n",
       "2010-02-05      1     1 2010-02-05      24924.50    A  151315        42.31   \n",
       "2010-02-05     29     5 2010-02-05      15552.08    B   93638        24.36   \n",
       "2010-02-05     29     6 2010-02-05       3200.22    B   93638        24.36   \n",
       "2010-02-05     29     7 2010-02-05      10820.05    B   93638        24.36   \n",
       "2010-02-05     29     8 2010-02-05      20055.64    B   93638        24.36   \n",
       "\n",
       "            Fuel_Price  MarkDown1  MarkDown2  MarkDown3  MarkDown4  MarkDown5  \\\n",
       "Date                                                                            \n",
       "2010-02-05       2.572        0.0        0.0        0.0        0.0        0.0   \n",
       "2010-02-05       2.788        0.0        0.0        0.0        0.0        0.0   \n",
       "2010-02-05       2.788        0.0        0.0        0.0        0.0        0.0   \n",
       "2010-02-05       2.788        0.0        0.0        0.0        0.0        0.0   \n",
       "2010-02-05       2.788        0.0        0.0        0.0        0.0        0.0   \n",
       "\n",
       "                   CPI  Unemployment  IsHoliday  \n",
       "Date                                             \n",
       "2010-02-05  211.096358         8.106      False  \n",
       "2010-02-05  131.527903        10.064      False  \n",
       "2010-02-05  131.527903        10.064      False  \n",
       "2010-02-05  131.527903        10.064      False  \n",
       "2010-02-05  131.527903        10.064      False  "
      ]
     },
     "execution_count": 22,
     "metadata": {},
     "output_type": "execute_result"
    }
   ],
   "source": [
    "data.head()"
   ]
  },
  {
   "cell_type": "markdown",
   "metadata": {
    "id": "HY4Z0TikwxkR"
   },
   "source": [
    "# **Splitting Date Column**"
   ]
  },
  {
   "cell_type": "code",
   "execution_count": 23,
   "metadata": {
    "colab": {
     "base_uri": "https://localhost:8080/"
    },
    "id": "zbNE-2qPjT0I",
    "outputId": "9fd7f80a-0994-497e-fcfb-d0099590ad27"
   },
   "outputs": [
    {
     "name": "stderr",
     "output_type": "stream",
     "text": [
      "C:\\Users\\HP\\miniconda3\\lib\\site-packages\\ipykernel_launcher.py:3: FutureWarning: Series.dt.weekofyear and Series.dt.week have been deprecated.  Please use Series.dt.isocalendar().week instead.\n",
      "  This is separate from the ipykernel package so we can avoid doing imports until\n"
     ]
    }
   ],
   "source": [
    "data['Year'] = data['Date'].dt.year\n",
    "data['Month'] = data['Date'].dt.month\n",
    "data['Week'] = data['Date'].dt.week"
   ]
  },
  {
   "cell_type": "code",
   "execution_count": 24,
   "metadata": {
    "colab": {
     "base_uri": "https://localhost:8080/",
     "height": 340
    },
    "id": "pdqUUZsXj4YJ",
    "outputId": "bfe7de3b-fed5-459a-ee4c-f34c5b9110b0"
   },
   "outputs": [
    {
     "data": {
      "text/html": [
       "<div>\n",
       "<style scoped>\n",
       "    .dataframe tbody tr th:only-of-type {\n",
       "        vertical-align: middle;\n",
       "    }\n",
       "\n",
       "    .dataframe tbody tr th {\n",
       "        vertical-align: top;\n",
       "    }\n",
       "\n",
       "    .dataframe thead th {\n",
       "        text-align: right;\n",
       "    }\n",
       "</style>\n",
       "<table border=\"1\" class=\"dataframe\">\n",
       "  <thead>\n",
       "    <tr style=\"text-align: right;\">\n",
       "      <th></th>\n",
       "      <th>Store</th>\n",
       "      <th>Dept</th>\n",
       "      <th>Date</th>\n",
       "      <th>Weekly_Sales</th>\n",
       "      <th>Type</th>\n",
       "      <th>Size</th>\n",
       "      <th>Temperature</th>\n",
       "      <th>Fuel_Price</th>\n",
       "      <th>MarkDown1</th>\n",
       "      <th>MarkDown2</th>\n",
       "      <th>MarkDown3</th>\n",
       "      <th>MarkDown4</th>\n",
       "      <th>MarkDown5</th>\n",
       "      <th>CPI</th>\n",
       "      <th>Unemployment</th>\n",
       "      <th>IsHoliday</th>\n",
       "      <th>Year</th>\n",
       "      <th>Month</th>\n",
       "      <th>Week</th>\n",
       "    </tr>\n",
       "    <tr>\n",
       "      <th>Date</th>\n",
       "      <th></th>\n",
       "      <th></th>\n",
       "      <th></th>\n",
       "      <th></th>\n",
       "      <th></th>\n",
       "      <th></th>\n",
       "      <th></th>\n",
       "      <th></th>\n",
       "      <th></th>\n",
       "      <th></th>\n",
       "      <th></th>\n",
       "      <th></th>\n",
       "      <th></th>\n",
       "      <th></th>\n",
       "      <th></th>\n",
       "      <th></th>\n",
       "      <th></th>\n",
       "      <th></th>\n",
       "      <th></th>\n",
       "    </tr>\n",
       "  </thead>\n",
       "  <tbody>\n",
       "    <tr>\n",
       "      <th>2010-02-05</th>\n",
       "      <td>1</td>\n",
       "      <td>1</td>\n",
       "      <td>2010-02-05</td>\n",
       "      <td>24924.50</td>\n",
       "      <td>A</td>\n",
       "      <td>151315</td>\n",
       "      <td>42.31</td>\n",
       "      <td>2.572</td>\n",
       "      <td>0.0</td>\n",
       "      <td>0.0</td>\n",
       "      <td>0.0</td>\n",
       "      <td>0.0</td>\n",
       "      <td>0.0</td>\n",
       "      <td>211.096358</td>\n",
       "      <td>8.106</td>\n",
       "      <td>False</td>\n",
       "      <td>2010</td>\n",
       "      <td>2</td>\n",
       "      <td>5</td>\n",
       "    </tr>\n",
       "    <tr>\n",
       "      <th>2010-02-05</th>\n",
       "      <td>29</td>\n",
       "      <td>5</td>\n",
       "      <td>2010-02-05</td>\n",
       "      <td>15552.08</td>\n",
       "      <td>B</td>\n",
       "      <td>93638</td>\n",
       "      <td>24.36</td>\n",
       "      <td>2.788</td>\n",
       "      <td>0.0</td>\n",
       "      <td>0.0</td>\n",
       "      <td>0.0</td>\n",
       "      <td>0.0</td>\n",
       "      <td>0.0</td>\n",
       "      <td>131.527903</td>\n",
       "      <td>10.064</td>\n",
       "      <td>False</td>\n",
       "      <td>2010</td>\n",
       "      <td>2</td>\n",
       "      <td>5</td>\n",
       "    </tr>\n",
       "    <tr>\n",
       "      <th>2010-02-05</th>\n",
       "      <td>29</td>\n",
       "      <td>6</td>\n",
       "      <td>2010-02-05</td>\n",
       "      <td>3200.22</td>\n",
       "      <td>B</td>\n",
       "      <td>93638</td>\n",
       "      <td>24.36</td>\n",
       "      <td>2.788</td>\n",
       "      <td>0.0</td>\n",
       "      <td>0.0</td>\n",
       "      <td>0.0</td>\n",
       "      <td>0.0</td>\n",
       "      <td>0.0</td>\n",
       "      <td>131.527903</td>\n",
       "      <td>10.064</td>\n",
       "      <td>False</td>\n",
       "      <td>2010</td>\n",
       "      <td>2</td>\n",
       "      <td>5</td>\n",
       "    </tr>\n",
       "    <tr>\n",
       "      <th>2010-02-05</th>\n",
       "      <td>29</td>\n",
       "      <td>7</td>\n",
       "      <td>2010-02-05</td>\n",
       "      <td>10820.05</td>\n",
       "      <td>B</td>\n",
       "      <td>93638</td>\n",
       "      <td>24.36</td>\n",
       "      <td>2.788</td>\n",
       "      <td>0.0</td>\n",
       "      <td>0.0</td>\n",
       "      <td>0.0</td>\n",
       "      <td>0.0</td>\n",
       "      <td>0.0</td>\n",
       "      <td>131.527903</td>\n",
       "      <td>10.064</td>\n",
       "      <td>False</td>\n",
       "      <td>2010</td>\n",
       "      <td>2</td>\n",
       "      <td>5</td>\n",
       "    </tr>\n",
       "    <tr>\n",
       "      <th>2010-02-05</th>\n",
       "      <td>29</td>\n",
       "      <td>8</td>\n",
       "      <td>2010-02-05</td>\n",
       "      <td>20055.64</td>\n",
       "      <td>B</td>\n",
       "      <td>93638</td>\n",
       "      <td>24.36</td>\n",
       "      <td>2.788</td>\n",
       "      <td>0.0</td>\n",
       "      <td>0.0</td>\n",
       "      <td>0.0</td>\n",
       "      <td>0.0</td>\n",
       "      <td>0.0</td>\n",
       "      <td>131.527903</td>\n",
       "      <td>10.064</td>\n",
       "      <td>False</td>\n",
       "      <td>2010</td>\n",
       "      <td>2</td>\n",
       "      <td>5</td>\n",
       "    </tr>\n",
       "  </tbody>\n",
       "</table>\n",
       "</div>"
      ],
      "text/plain": [
       "            Store  Dept       Date  Weekly_Sales Type    Size  Temperature  \\\n",
       "Date                                                                         \n",
       "2010-02-05      1     1 2010-02-05      24924.50    A  151315        42.31   \n",
       "2010-02-05     29     5 2010-02-05      15552.08    B   93638        24.36   \n",
       "2010-02-05     29     6 2010-02-05       3200.22    B   93638        24.36   \n",
       "2010-02-05     29     7 2010-02-05      10820.05    B   93638        24.36   \n",
       "2010-02-05     29     8 2010-02-05      20055.64    B   93638        24.36   \n",
       "\n",
       "            Fuel_Price  MarkDown1  MarkDown2  MarkDown3  MarkDown4  MarkDown5  \\\n",
       "Date                                                                            \n",
       "2010-02-05       2.572        0.0        0.0        0.0        0.0        0.0   \n",
       "2010-02-05       2.788        0.0        0.0        0.0        0.0        0.0   \n",
       "2010-02-05       2.788        0.0        0.0        0.0        0.0        0.0   \n",
       "2010-02-05       2.788        0.0        0.0        0.0        0.0        0.0   \n",
       "2010-02-05       2.788        0.0        0.0        0.0        0.0        0.0   \n",
       "\n",
       "                   CPI  Unemployment  IsHoliday  Year  Month  Week  \n",
       "Date                                                                \n",
       "2010-02-05  211.096358         8.106      False  2010      2     5  \n",
       "2010-02-05  131.527903        10.064      False  2010      2     5  \n",
       "2010-02-05  131.527903        10.064      False  2010      2     5  \n",
       "2010-02-05  131.527903        10.064      False  2010      2     5  \n",
       "2010-02-05  131.527903        10.064      False  2010      2     5  "
      ]
     },
     "execution_count": 24,
     "metadata": {},
     "output_type": "execute_result"
    }
   ],
   "source": [
    "data.head()"
   ]
  },
  {
   "cell_type": "markdown",
   "metadata": {
    "id": "5K4f9mnMn0cF"
   },
   "source": [
    "# **Outlier Detection and Abnormalities**"
   ]
  },
  {
   "cell_type": "markdown",
   "metadata": {
    "id": "MZWtoT_zokPK"
   },
   "source": [
    "**Outliers**"
   ]
  },
  {
   "cell_type": "code",
   "execution_count": 25,
   "metadata": {
    "colab": {
     "base_uri": "https://localhost:8080/"
    },
    "id": "dYPUg6IXOUHb",
    "outputId": "6869d168-32e9-48c1-829a-eabdd7c0522d"
   },
   "outputs": [
    {
     "data": {
      "text/plain": [
       "Store      0\n",
       "Dept       0\n",
       "max        0\n",
       "min        0\n",
       "mean       0\n",
       "median     0\n",
       "std       37\n",
       "dtype: int64"
      ]
     },
     "execution_count": 25,
     "metadata": {},
     "output_type": "execute_result"
    }
   ],
   "source": [
    "agg_data = data.groupby(['Store', 'Dept']).Weekly_Sales.agg(['max', 'min', 'mean', 'median', 'std']).reset_index()\n",
    "agg_data.isnull().sum()"
   ]
  },
  {
   "cell_type": "code",
   "execution_count": 26,
   "metadata": {
    "id": "jI6so2P_GDgq"
   },
   "outputs": [],
   "source": [
    "store_data = pd.merge(left=data,right=agg_data,on=['Store', 'Dept'],how ='left')\n",
    "store_data.dropna(inplace=True)\n",
    "data = store_data.copy()\n",
    "del store_data"
   ]
  },
  {
   "cell_type": "code",
   "execution_count": 27,
   "metadata": {
    "colab": {
     "base_uri": "https://localhost:8080/",
     "height": 340
    },
    "id": "8LxyWHBxpg88",
    "outputId": "afd2a016-076b-42eb-d94e-3099a26b05de"
   },
   "outputs": [
    {
     "data": {
      "text/html": [
       "<div>\n",
       "<style scoped>\n",
       "    .dataframe tbody tr th:only-of-type {\n",
       "        vertical-align: middle;\n",
       "    }\n",
       "\n",
       "    .dataframe tbody tr th {\n",
       "        vertical-align: top;\n",
       "    }\n",
       "\n",
       "    .dataframe thead th {\n",
       "        text-align: right;\n",
       "    }\n",
       "</style>\n",
       "<table border=\"1\" class=\"dataframe\">\n",
       "  <thead>\n",
       "    <tr style=\"text-align: right;\">\n",
       "      <th></th>\n",
       "      <th>Store</th>\n",
       "      <th>Dept</th>\n",
       "      <th>Date</th>\n",
       "      <th>Weekly_Sales</th>\n",
       "      <th>Type</th>\n",
       "      <th>Size</th>\n",
       "      <th>Temperature</th>\n",
       "      <th>Fuel_Price</th>\n",
       "      <th>MarkDown1</th>\n",
       "      <th>MarkDown2</th>\n",
       "      <th>...</th>\n",
       "      <th>Unemployment</th>\n",
       "      <th>IsHoliday</th>\n",
       "      <th>Year</th>\n",
       "      <th>Month</th>\n",
       "      <th>Week</th>\n",
       "      <th>max</th>\n",
       "      <th>min</th>\n",
       "      <th>mean</th>\n",
       "      <th>median</th>\n",
       "      <th>std</th>\n",
       "    </tr>\n",
       "    <tr>\n",
       "      <th>Date</th>\n",
       "      <th></th>\n",
       "      <th></th>\n",
       "      <th></th>\n",
       "      <th></th>\n",
       "      <th></th>\n",
       "      <th></th>\n",
       "      <th></th>\n",
       "      <th></th>\n",
       "      <th></th>\n",
       "      <th></th>\n",
       "      <th></th>\n",
       "      <th></th>\n",
       "      <th></th>\n",
       "      <th></th>\n",
       "      <th></th>\n",
       "      <th></th>\n",
       "      <th></th>\n",
       "      <th></th>\n",
       "      <th></th>\n",
       "      <th></th>\n",
       "      <th></th>\n",
       "    </tr>\n",
       "  </thead>\n",
       "  <tbody>\n",
       "    <tr>\n",
       "      <th>2010-02-05</th>\n",
       "      <td>1</td>\n",
       "      <td>1</td>\n",
       "      <td>2010-02-05</td>\n",
       "      <td>24924.50</td>\n",
       "      <td>A</td>\n",
       "      <td>151315</td>\n",
       "      <td>42.31</td>\n",
       "      <td>2.572</td>\n",
       "      <td>0.0</td>\n",
       "      <td>0.0</td>\n",
       "      <td>...</td>\n",
       "      <td>8.106</td>\n",
       "      <td>False</td>\n",
       "      <td>2010</td>\n",
       "      <td>2</td>\n",
       "      <td>5</td>\n",
       "      <td>57592.12</td>\n",
       "      <td>14537.37</td>\n",
       "      <td>22513.322937</td>\n",
       "      <td>18535.48</td>\n",
       "      <td>9854.349032</td>\n",
       "    </tr>\n",
       "    <tr>\n",
       "      <th>2010-02-05</th>\n",
       "      <td>9</td>\n",
       "      <td>97</td>\n",
       "      <td>2010-02-05</td>\n",
       "      <td>668.48</td>\n",
       "      <td>B</td>\n",
       "      <td>125833</td>\n",
       "      <td>38.01</td>\n",
       "      <td>2.572</td>\n",
       "      <td>0.0</td>\n",
       "      <td>0.0</td>\n",
       "      <td>...</td>\n",
       "      <td>6.415</td>\n",
       "      <td>False</td>\n",
       "      <td>2010</td>\n",
       "      <td>2</td>\n",
       "      <td>5</td>\n",
       "      <td>766.93</td>\n",
       "      <td>-9.92</td>\n",
       "      <td>372.655556</td>\n",
       "      <td>371.05</td>\n",
       "      <td>290.954675</td>\n",
       "    </tr>\n",
       "    <tr>\n",
       "      <th>2010-02-05</th>\n",
       "      <td>9</td>\n",
       "      <td>85</td>\n",
       "      <td>2010-02-05</td>\n",
       "      <td>693.87</td>\n",
       "      <td>B</td>\n",
       "      <td>125833</td>\n",
       "      <td>38.01</td>\n",
       "      <td>2.572</td>\n",
       "      <td>0.0</td>\n",
       "      <td>0.0</td>\n",
       "      <td>...</td>\n",
       "      <td>6.415</td>\n",
       "      <td>False</td>\n",
       "      <td>2010</td>\n",
       "      <td>2</td>\n",
       "      <td>5</td>\n",
       "      <td>2512.14</td>\n",
       "      <td>110.56</td>\n",
       "      <td>876.629441</td>\n",
       "      <td>824.04</td>\n",
       "      <td>307.436056</td>\n",
       "    </tr>\n",
       "    <tr>\n",
       "      <th>2010-02-05</th>\n",
       "      <td>8</td>\n",
       "      <td>80</td>\n",
       "      <td>2010-02-05</td>\n",
       "      <td>8654.60</td>\n",
       "      <td>A</td>\n",
       "      <td>155078</td>\n",
       "      <td>34.14</td>\n",
       "      <td>2.572</td>\n",
       "      <td>0.0</td>\n",
       "      <td>0.0</td>\n",
       "      <td>...</td>\n",
       "      <td>6.299</td>\n",
       "      <td>False</td>\n",
       "      <td>2010</td>\n",
       "      <td>2</td>\n",
       "      <td>5</td>\n",
       "      <td>11990.43</td>\n",
       "      <td>7414.43</td>\n",
       "      <td>9188.915105</td>\n",
       "      <td>9161.97</td>\n",
       "      <td>756.223236</td>\n",
       "    </tr>\n",
       "    <tr>\n",
       "      <th>2010-02-05</th>\n",
       "      <td>9</td>\n",
       "      <td>55</td>\n",
       "      <td>2010-02-05</td>\n",
       "      <td>11123.56</td>\n",
       "      <td>B</td>\n",
       "      <td>125833</td>\n",
       "      <td>38.01</td>\n",
       "      <td>2.572</td>\n",
       "      <td>0.0</td>\n",
       "      <td>0.0</td>\n",
       "      <td>...</td>\n",
       "      <td>6.415</td>\n",
       "      <td>False</td>\n",
       "      <td>2010</td>\n",
       "      <td>2</td>\n",
       "      <td>5</td>\n",
       "      <td>29166.26</td>\n",
       "      <td>4791.74</td>\n",
       "      <td>8607.050490</td>\n",
       "      <td>7571.60</td>\n",
       "      <td>3874.176095</td>\n",
       "    </tr>\n",
       "  </tbody>\n",
       "</table>\n",
       "<p>5 rows × 24 columns</p>\n",
       "</div>"
      ],
      "text/plain": [
       "            Store  Dept       Date  Weekly_Sales Type    Size  Temperature  \\\n",
       "Date                                                                         \n",
       "2010-02-05      1     1 2010-02-05      24924.50    A  151315        42.31   \n",
       "2010-02-05      9    97 2010-02-05        668.48    B  125833        38.01   \n",
       "2010-02-05      9    85 2010-02-05        693.87    B  125833        38.01   \n",
       "2010-02-05      8    80 2010-02-05       8654.60    A  155078        34.14   \n",
       "2010-02-05      9    55 2010-02-05      11123.56    B  125833        38.01   \n",
       "\n",
       "            Fuel_Price  MarkDown1  MarkDown2  ...  Unemployment  IsHoliday  \\\n",
       "Date                                          ...                            \n",
       "2010-02-05       2.572        0.0        0.0  ...         8.106      False   \n",
       "2010-02-05       2.572        0.0        0.0  ...         6.415      False   \n",
       "2010-02-05       2.572        0.0        0.0  ...         6.415      False   \n",
       "2010-02-05       2.572        0.0        0.0  ...         6.299      False   \n",
       "2010-02-05       2.572        0.0        0.0  ...         6.415      False   \n",
       "\n",
       "            Year  Month  Week       max       min          mean    median  \\\n",
       "Date                                                                        \n",
       "2010-02-05  2010      2     5  57592.12  14537.37  22513.322937  18535.48   \n",
       "2010-02-05  2010      2     5    766.93     -9.92    372.655556    371.05   \n",
       "2010-02-05  2010      2     5   2512.14    110.56    876.629441    824.04   \n",
       "2010-02-05  2010      2     5  11990.43   7414.43   9188.915105   9161.97   \n",
       "2010-02-05  2010      2     5  29166.26   4791.74   8607.050490   7571.60   \n",
       "\n",
       "                    std  \n",
       "Date                     \n",
       "2010-02-05  9854.349032  \n",
       "2010-02-05   290.954675  \n",
       "2010-02-05   307.436056  \n",
       "2010-02-05   756.223236  \n",
       "2010-02-05  3874.176095  \n",
       "\n",
       "[5 rows x 24 columns]"
      ]
     },
     "execution_count": 27,
     "metadata": {},
     "output_type": "execute_result"
    }
   ],
   "source": [
    "data['Date'] = pd.to_datetime(data['Date'])\n",
    "data.sort_values(by=['Date'],inplace=True)\n",
    "data.set_index(data.Date, inplace=True)\n",
    "data.head()"
   ]
  },
  {
   "cell_type": "code",
   "execution_count": 28,
   "metadata": {
    "id": "uzefVGeXFWZz"
   },
   "outputs": [],
   "source": [
    "data['Total_MarkDown'] = data['MarkDown1']+data['MarkDown2']+data['MarkDown3']+data['MarkDown4']+data['MarkDown5']\n",
    "data.drop(['MarkDown1','MarkDown2','MarkDown3','MarkDown4','MarkDown5'], axis = 1,inplace=True)"
   ]
  },
  {
   "cell_type": "code",
   "execution_count": 29,
   "metadata": {
    "id": "PX-4Lj3Qn0-b"
   },
   "outputs": [],
   "source": [
    "numeric_col = ['Weekly_Sales','Size','Temperature','Fuel_Price','CPI','Unemployment','Total_MarkDown']\n",
    "data_numeric = data[numeric_col].copy()"
   ]
  },
  {
   "cell_type": "code",
   "execution_count": 30,
   "metadata": {
    "colab": {
     "base_uri": "https://localhost:8080/"
    },
    "id": "Qs0LOns2n6rc",
    "outputId": "cd4d89e3-d0d4-4f9b-8da1-8324efab9ecd"
   },
   "outputs": [
    {
     "data": {
      "text/plain": [
       "(421533, 20)"
      ]
     },
     "execution_count": 30,
     "metadata": {},
     "output_type": "execute_result"
    }
   ],
   "source": [
    "data.shape"
   ]
  },
  {
   "cell_type": "code",
   "execution_count": 31,
   "metadata": {
    "colab": {
     "base_uri": "https://localhost:8080/"
    },
    "id": "JvolJFvEn8Ap",
    "outputId": "b89ef2f6-0024-4e6c-b782-31fceba7d67c"
   },
   "outputs": [
    {
     "data": {
      "text/plain": [
       "(375438, 20)"
      ]
     },
     "execution_count": 31,
     "metadata": {},
     "output_type": "execute_result"
    }
   ],
   "source": [
    "data = data[(np.abs(stats.zscore(data_numeric)) < 2.5).all(axis = 1)]\n",
    "data.shape"
   ]
  },
  {
   "cell_type": "markdown",
   "metadata": {
    "id": "GiPAoLU2omz5"
   },
   "source": [
    "**Negative Weekly Sales**"
   ]
  },
  {
   "cell_type": "code",
   "execution_count": 32,
   "metadata": {
    "colab": {
     "base_uri": "https://localhost:8080/",
     "height": 459
    },
    "id": "qiyk5v2vof4D",
    "outputId": "0cd2d112-b854-444d-bc10-ed1aa2da0efb"
   },
   "outputs": [
    {
     "data": {
      "image/png": "[encoded data removed]",
      "text/plain": [
       "<Figure size 864x432 with 1 Axes>"
      ]
     },
     "metadata": {
      "needs_background": "light"
     },
     "output_type": "display_data"
    }
   ],
   "source": [
    "y = data[\"Weekly_Sales\"][data.Weekly_Sales < 0]\n",
    "sns.displot(y,height=6,aspect=2)\n",
    "plt.title(\"Negative Weekly Sales\", fontsize=15)\n",
    "plt.savefig('plots/negative_weekly_sales.png')\n",
    "plt.show()"
   ]
  },
  {
   "cell_type": "code",
   "execution_count": 33,
   "metadata": {
    "id": "nyhG515ZoyWS"
   },
   "outputs": [],
   "source": [
    "data=data[data['Weekly_Sales']>=0]"
   ]
  },
  {
   "cell_type": "code",
   "execution_count": 34,
   "metadata": {
    "colab": {
     "base_uri": "https://localhost:8080/"
    },
    "id": "15pJxSCLn8zh",
    "outputId": "ca6c15db-f864-45e5-afc5-16f56c80c3f6"
   },
   "outputs": [
    {
     "data": {
      "text/plain": [
       "(374247, 20)"
      ]
     },
     "execution_count": 34,
     "metadata": {},
     "output_type": "execute_result"
    }
   ],
   "source": [
    "data.shape"
   ]
  },
  {
   "cell_type": "code",
   "execution_count": 35,
   "metadata": {
    "id": "dndnaan_1XjJ"
   },
   "outputs": [],
   "source": [
    "data['IsHoliday'] = data['IsHoliday'].astype('int')"
   ]
  },
  {
   "cell_type": "code",
   "execution_count": 36,
   "metadata": {
    "colab": {
     "base_uri": "https://localhost:8080/",
     "height": 640
    },
    "id": "uyhvuupQFM-c",
    "outputId": "de6b0d0d-85b3-45c2-e052-ef84b38f2b54"
   },
   "outputs": [
    {
     "data": {
      "text/html": [
       "<div>\n",
       "<style scoped>\n",
       "    .dataframe tbody tr th:only-of-type {\n",
       "        vertical-align: middle;\n",
       "    }\n",
       "\n",
       "    .dataframe tbody tr th {\n",
       "        vertical-align: top;\n",
       "    }\n",
       "\n",
       "    .dataframe thead th {\n",
       "        text-align: right;\n",
       "    }\n",
       "</style>\n",
       "<table border=\"1\" class=\"dataframe\">\n",
       "  <thead>\n",
       "    <tr style=\"text-align: right;\">\n",
       "      <th></th>\n",
       "      <th>Store</th>\n",
       "      <th>Dept</th>\n",
       "      <th>Date</th>\n",
       "      <th>Weekly_Sales</th>\n",
       "      <th>Type</th>\n",
       "      <th>Size</th>\n",
       "      <th>Temperature</th>\n",
       "      <th>Fuel_Price</th>\n",
       "      <th>CPI</th>\n",
       "      <th>Unemployment</th>\n",
       "      <th>IsHoliday</th>\n",
       "      <th>Year</th>\n",
       "      <th>Month</th>\n",
       "      <th>Week</th>\n",
       "      <th>max</th>\n",
       "      <th>min</th>\n",
       "      <th>mean</th>\n",
       "      <th>median</th>\n",
       "      <th>std</th>\n",
       "      <th>Total_MarkDown</th>\n",
       "    </tr>\n",
       "    <tr>\n",
       "      <th>Date</th>\n",
       "      <th></th>\n",
       "      <th></th>\n",
       "      <th></th>\n",
       "      <th></th>\n",
       "      <th></th>\n",
       "      <th></th>\n",
       "      <th></th>\n",
       "      <th></th>\n",
       "      <th></th>\n",
       "      <th></th>\n",
       "      <th></th>\n",
       "      <th></th>\n",
       "      <th></th>\n",
       "      <th></th>\n",
       "      <th></th>\n",
       "      <th></th>\n",
       "      <th></th>\n",
       "      <th></th>\n",
       "      <th></th>\n",
       "      <th></th>\n",
       "    </tr>\n",
       "  </thead>\n",
       "  <tbody>\n",
       "    <tr>\n",
       "      <th>2010-02-05</th>\n",
       "      <td>1</td>\n",
       "      <td>1</td>\n",
       "      <td>2010-02-05</td>\n",
       "      <td>24924.50</td>\n",
       "      <td>A</td>\n",
       "      <td>151315</td>\n",
       "      <td>42.31</td>\n",
       "      <td>2.572</td>\n",
       "      <td>211.096358</td>\n",
       "      <td>8.106</td>\n",
       "      <td>0</td>\n",
       "      <td>2010</td>\n",
       "      <td>2</td>\n",
       "      <td>5</td>\n",
       "      <td>57592.12</td>\n",
       "      <td>14537.37</td>\n",
       "      <td>22513.322937</td>\n",
       "      <td>18535.480</td>\n",
       "      <td>9854.349032</td>\n",
       "      <td>0.00</td>\n",
       "    </tr>\n",
       "    <tr>\n",
       "      <th>2010-02-05</th>\n",
       "      <td>9</td>\n",
       "      <td>97</td>\n",
       "      <td>2010-02-05</td>\n",
       "      <td>668.48</td>\n",
       "      <td>B</td>\n",
       "      <td>125833</td>\n",
       "      <td>38.01</td>\n",
       "      <td>2.572</td>\n",
       "      <td>214.655459</td>\n",
       "      <td>6.415</td>\n",
       "      <td>0</td>\n",
       "      <td>2010</td>\n",
       "      <td>2</td>\n",
       "      <td>5</td>\n",
       "      <td>766.93</td>\n",
       "      <td>-9.92</td>\n",
       "      <td>372.655556</td>\n",
       "      <td>371.050</td>\n",
       "      <td>290.954675</td>\n",
       "      <td>0.00</td>\n",
       "    </tr>\n",
       "    <tr>\n",
       "      <th>2010-02-05</th>\n",
       "      <td>9</td>\n",
       "      <td>85</td>\n",
       "      <td>2010-02-05</td>\n",
       "      <td>693.87</td>\n",
       "      <td>B</td>\n",
       "      <td>125833</td>\n",
       "      <td>38.01</td>\n",
       "      <td>2.572</td>\n",
       "      <td>214.655459</td>\n",
       "      <td>6.415</td>\n",
       "      <td>0</td>\n",
       "      <td>2010</td>\n",
       "      <td>2</td>\n",
       "      <td>5</td>\n",
       "      <td>2512.14</td>\n",
       "      <td>110.56</td>\n",
       "      <td>876.629441</td>\n",
       "      <td>824.040</td>\n",
       "      <td>307.436056</td>\n",
       "      <td>0.00</td>\n",
       "    </tr>\n",
       "    <tr>\n",
       "      <th>2010-02-05</th>\n",
       "      <td>8</td>\n",
       "      <td>80</td>\n",
       "      <td>2010-02-05</td>\n",
       "      <td>8654.60</td>\n",
       "      <td>A</td>\n",
       "      <td>155078</td>\n",
       "      <td>34.14</td>\n",
       "      <td>2.572</td>\n",
       "      <td>214.471451</td>\n",
       "      <td>6.299</td>\n",
       "      <td>0</td>\n",
       "      <td>2010</td>\n",
       "      <td>2</td>\n",
       "      <td>5</td>\n",
       "      <td>11990.43</td>\n",
       "      <td>7414.43</td>\n",
       "      <td>9188.915105</td>\n",
       "      <td>9161.970</td>\n",
       "      <td>756.223236</td>\n",
       "      <td>0.00</td>\n",
       "    </tr>\n",
       "    <tr>\n",
       "      <th>2010-02-05</th>\n",
       "      <td>9</td>\n",
       "      <td>55</td>\n",
       "      <td>2010-02-05</td>\n",
       "      <td>11123.56</td>\n",
       "      <td>B</td>\n",
       "      <td>125833</td>\n",
       "      <td>38.01</td>\n",
       "      <td>2.572</td>\n",
       "      <td>214.655459</td>\n",
       "      <td>6.415</td>\n",
       "      <td>0</td>\n",
       "      <td>2010</td>\n",
       "      <td>2</td>\n",
       "      <td>5</td>\n",
       "      <td>29166.26</td>\n",
       "      <td>4791.74</td>\n",
       "      <td>8607.050490</td>\n",
       "      <td>7571.600</td>\n",
       "      <td>3874.176095</td>\n",
       "      <td>0.00</td>\n",
       "    </tr>\n",
       "    <tr>\n",
       "      <th>...</th>\n",
       "      <td>...</td>\n",
       "      <td>...</td>\n",
       "      <td>...</td>\n",
       "      <td>...</td>\n",
       "      <td>...</td>\n",
       "      <td>...</td>\n",
       "      <td>...</td>\n",
       "      <td>...</td>\n",
       "      <td>...</td>\n",
       "      <td>...</td>\n",
       "      <td>...</td>\n",
       "      <td>...</td>\n",
       "      <td>...</td>\n",
       "      <td>...</td>\n",
       "      <td>...</td>\n",
       "      <td>...</td>\n",
       "      <td>...</td>\n",
       "      <td>...</td>\n",
       "      <td>...</td>\n",
       "      <td>...</td>\n",
       "    </tr>\n",
       "    <tr>\n",
       "      <th>2012-10-26</th>\n",
       "      <td>2</td>\n",
       "      <td>26</td>\n",
       "      <td>2012-10-26</td>\n",
       "      <td>9258.88</td>\n",
       "      <td>A</td>\n",
       "      <td>202307</td>\n",
       "      <td>69.79</td>\n",
       "      <td>3.506</td>\n",
       "      <td>223.078337</td>\n",
       "      <td>6.170</td>\n",
       "      <td>0</td>\n",
       "      <td>2012</td>\n",
       "      <td>10</td>\n",
       "      <td>43</td>\n",
       "      <td>19679.04</td>\n",
       "      <td>4179.99</td>\n",
       "      <td>9347.725105</td>\n",
       "      <td>8762.990</td>\n",
       "      <td>2825.107609</td>\n",
       "      <td>9678.80</td>\n",
       "    </tr>\n",
       "    <tr>\n",
       "      <th>2012-10-26</th>\n",
       "      <td>38</td>\n",
       "      <td>23</td>\n",
       "      <td>2012-10-26</td>\n",
       "      <td>53.12</td>\n",
       "      <td>C</td>\n",
       "      <td>39690</td>\n",
       "      <td>65.95</td>\n",
       "      <td>4.301</td>\n",
       "      <td>131.193097</td>\n",
       "      <td>10.199</td>\n",
       "      <td>0</td>\n",
       "      <td>2012</td>\n",
       "      <td>10</td>\n",
       "      <td>43</td>\n",
       "      <td>289.78</td>\n",
       "      <td>3.50</td>\n",
       "      <td>37.848679</td>\n",
       "      <td>31.365</td>\n",
       "      <td>34.065601</td>\n",
       "      <td>502.88</td>\n",
       "    </tr>\n",
       "    <tr>\n",
       "      <th>2012-10-26</th>\n",
       "      <td>27</td>\n",
       "      <td>6</td>\n",
       "      <td>2012-10-26</td>\n",
       "      <td>5339.65</td>\n",
       "      <td>A</td>\n",
       "      <td>204184</td>\n",
       "      <td>58.99</td>\n",
       "      <td>4.071</td>\n",
       "      <td>142.762411</td>\n",
       "      <td>8.000</td>\n",
       "      <td>0</td>\n",
       "      <td>2012</td>\n",
       "      <td>10</td>\n",
       "      <td>43</td>\n",
       "      <td>41005.33</td>\n",
       "      <td>2524.01</td>\n",
       "      <td>7730.729091</td>\n",
       "      <td>6798.780</td>\n",
       "      <td>5178.928257</td>\n",
       "      <td>10969.27</td>\n",
       "    </tr>\n",
       "    <tr>\n",
       "      <th>2012-10-26</th>\n",
       "      <td>36</td>\n",
       "      <td>40</td>\n",
       "      <td>2012-10-26</td>\n",
       "      <td>10216.27</td>\n",
       "      <td>A</td>\n",
       "      <td>39910</td>\n",
       "      <td>74.39</td>\n",
       "      <td>3.494</td>\n",
       "      <td>222.113657</td>\n",
       "      <td>6.228</td>\n",
       "      <td>0</td>\n",
       "      <td>2012</td>\n",
       "      <td>10</td>\n",
       "      <td>43</td>\n",
       "      <td>13605.53</td>\n",
       "      <td>8444.83</td>\n",
       "      <td>10541.569860</td>\n",
       "      <td>10329.180</td>\n",
       "      <td>1043.930131</td>\n",
       "      <td>1260.55</td>\n",
       "    </tr>\n",
       "    <tr>\n",
       "      <th>2012-10-26</th>\n",
       "      <td>45</td>\n",
       "      <td>98</td>\n",
       "      <td>2012-10-26</td>\n",
       "      <td>1076.80</td>\n",
       "      <td>B</td>\n",
       "      <td>118221</td>\n",
       "      <td>58.85</td>\n",
       "      <td>3.882</td>\n",
       "      <td>192.308899</td>\n",
       "      <td>8.667</td>\n",
       "      <td>0</td>\n",
       "      <td>2012</td>\n",
       "      <td>10</td>\n",
       "      <td>43</td>\n",
       "      <td>1504.71</td>\n",
       "      <td>2.00</td>\n",
       "      <td>561.239037</td>\n",
       "      <td>619.410</td>\n",
       "      <td>371.286705</td>\n",
       "      <td>5247.26</td>\n",
       "    </tr>\n",
       "  </tbody>\n",
       "</table>\n",
       "<p>374247 rows × 20 columns</p>\n",
       "</div>"
      ],
      "text/plain": [
       "            Store  Dept       Date  Weekly_Sales Type    Size  Temperature  \\\n",
       "Date                                                                         \n",
       "2010-02-05      1     1 2010-02-05      24924.50    A  151315        42.31   \n",
       "2010-02-05      9    97 2010-02-05        668.48    B  125833        38.01   \n",
       "2010-02-05      9    85 2010-02-05        693.87    B  125833        38.01   \n",
       "2010-02-05      8    80 2010-02-05       8654.60    A  155078        34.14   \n",
       "2010-02-05      9    55 2010-02-05      11123.56    B  125833        38.01   \n",
       "...           ...   ...        ...           ...  ...     ...          ...   \n",
       "2012-10-26      2    26 2012-10-26       9258.88    A  202307        69.79   \n",
       "2012-10-26     38    23 2012-10-26         53.12    C   39690        65.95   \n",
       "2012-10-26     27     6 2012-10-26       5339.65    A  204184        58.99   \n",
       "2012-10-26     36    40 2012-10-26      10216.27    A   39910        74.39   \n",
       "2012-10-26     45    98 2012-10-26       1076.80    B  118221        58.85   \n",
       "\n",
       "            Fuel_Price         CPI  Unemployment  IsHoliday  Year  Month  \\\n",
       "Date                                                                       \n",
       "2010-02-05       2.572  211.096358         8.106          0  2010      2   \n",
       "2010-02-05       2.572  214.655459         6.415          0  2010      2   \n",
       "2010-02-05       2.572  214.655459         6.415          0  2010      2   \n",
       "2010-02-05       2.572  214.471451         6.299          0  2010      2   \n",
       "2010-02-05       2.572  214.655459         6.415          0  2010      2   \n",
       "...                ...         ...           ...        ...   ...    ...   \n",
       "2012-10-26       3.506  223.078337         6.170          0  2012     10   \n",
       "2012-10-26       4.301  131.193097        10.199          0  2012     10   \n",
       "2012-10-26       4.071  142.762411         8.000          0  2012     10   \n",
       "2012-10-26       3.494  222.113657         6.228          0  2012     10   \n",
       "2012-10-26       3.882  192.308899         8.667          0  2012     10   \n",
       "\n",
       "            Week       max       min          mean     median          std  \\\n",
       "Date                                                                         \n",
       "2010-02-05     5  57592.12  14537.37  22513.322937  18535.480  9854.349032   \n",
       "2010-02-05     5    766.93     -9.92    372.655556    371.050   290.954675   \n",
       "2010-02-05     5   2512.14    110.56    876.629441    824.040   307.436056   \n",
       "2010-02-05     5  11990.43   7414.43   9188.915105   9161.970   756.223236   \n",
       "2010-02-05     5  29166.26   4791.74   8607.050490   7571.600  3874.176095   \n",
       "...          ...       ...       ...           ...        ...          ...   \n",
       "2012-10-26    43  19679.04   4179.99   9347.725105   8762.990  2825.107609   \n",
       "2012-10-26    43    289.78      3.50     37.848679     31.365    34.065601   \n",
       "2012-10-26    43  41005.33   2524.01   7730.729091   6798.780  5178.928257   \n",
       "2012-10-26    43  13605.53   8444.83  10541.569860  10329.180  1043.930131   \n",
       "2012-10-26    43   1504.71      2.00    561.239037    619.410   371.286705   \n",
       "\n",
       "            Total_MarkDown  \n",
       "Date                        \n",
       "2010-02-05            0.00  \n",
       "2010-02-05            0.00  \n",
       "2010-02-05            0.00  \n",
       "2010-02-05            0.00  \n",
       "2010-02-05            0.00  \n",
       "...                    ...  \n",
       "2012-10-26         9678.80  \n",
       "2012-10-26          502.88  \n",
       "2012-10-26        10969.27  \n",
       "2012-10-26         1260.55  \n",
       "2012-10-26         5247.26  \n",
       "\n",
       "[374247 rows x 20 columns]"
      ]
     },
     "execution_count": 36,
     "metadata": {},
     "output_type": "execute_result"
    }
   ],
   "source": [
    "data"
   ]
  },
  {
   "cell_type": "code",
   "execution_count": 37,
   "metadata": {
    "id": "xexz4wiN8K_H"
   },
   "outputs": [],
   "source": [
    "data.to_csv('./datasets/preprocessed_walmart_dataset.csv')"
   ]
  },
  {
   "cell_type": "markdown",
   "metadata": {
    "id": "1pigEj13xC9J"
   },
   "source": [
    "# **Data Visuallizations**"
   ]
  },
  {
   "cell_type": "markdown",
   "metadata": {
    "id": "GElxXvPwxY3J"
   },
   "source": [
    "**Average Monthly Sales**"
   ]
  },
  {
   "cell_type": "code",
   "execution_count": 38,
   "metadata": {
    "colab": {
     "base_uri": "https://localhost:8080/",
     "height": 519
    },
    "id": "Hm2Cj7MaujX4",
    "outputId": "c3f8be09-78c3-4186-f43a-c19782f07c3b"
   },
   "outputs": [
    {
     "data": {
      "image/png": "[encoded data removed]",
      "text/plain": [
       "<Figure size 1008x576 with 1 Axes>"
      ]
     },
     "metadata": {
      "needs_background": "light"
     },
     "output_type": "display_data"
    }
   ],
   "source": [
    "plt.figure(figsize=(14,8))\n",
    "sns.barplot(x='Month',y='Weekly_Sales',data=data)\n",
    "plt.ylabel('Sales',fontsize=14)\n",
    "plt.xlabel('Months',fontsize=14)\n",
    "plt.title('Average Monthly Sales',fontsize=16)\n",
    "plt.savefig('plots/avg_monthly_sales.png')\n",
    "plt.grid()"
   ]
  },
  {
   "cell_type": "markdown",
   "metadata": {
    "id": "FKCQ3PgZjQ1m"
   },
   "source": [
    "**Monthly Sales for Each Year**"
   ]
  },
  {
   "cell_type": "code",
   "execution_count": 39,
   "metadata": {
    "colab": {
     "base_uri": "https://localhost:8080/",
     "height": 193
    },
    "id": "nHCBSdh3vcaQ",
    "outputId": "c49516d9-ecf5-4dca-c886-577042824594"
   },
   "outputs": [
    {
     "data": {
      "text/html": [
       "<div>\n",
       "<style scoped>\n",
       "    .dataframe tbody tr th:only-of-type {\n",
       "        vertical-align: middle;\n",
       "    }\n",
       "\n",
       "    .dataframe tbody tr th {\n",
       "        vertical-align: top;\n",
       "    }\n",
       "\n",
       "    .dataframe thead th {\n",
       "        text-align: right;\n",
       "    }\n",
       "</style>\n",
       "<table border=\"1\" class=\"dataframe\">\n",
       "  <thead>\n",
       "    <tr style=\"text-align: right;\">\n",
       "      <th>Month</th>\n",
       "      <th>1</th>\n",
       "      <th>2</th>\n",
       "      <th>3</th>\n",
       "      <th>4</th>\n",
       "      <th>5</th>\n",
       "      <th>6</th>\n",
       "      <th>7</th>\n",
       "      <th>8</th>\n",
       "      <th>9</th>\n",
       "      <th>10</th>\n",
       "      <th>11</th>\n",
       "      <th>12</th>\n",
       "    </tr>\n",
       "    <tr>\n",
       "      <th>Year</th>\n",
       "      <th></th>\n",
       "      <th></th>\n",
       "      <th></th>\n",
       "      <th></th>\n",
       "      <th></th>\n",
       "      <th></th>\n",
       "      <th></th>\n",
       "      <th></th>\n",
       "      <th></th>\n",
       "      <th></th>\n",
       "      <th></th>\n",
       "      <th></th>\n",
       "    </tr>\n",
       "  </thead>\n",
       "  <tbody>\n",
       "    <tr>\n",
       "      <th>2010</th>\n",
       "      <td>NaN</td>\n",
       "      <td>1.365986e+08</td>\n",
       "      <td>1.369976e+08</td>\n",
       "      <td>1.753251e+08</td>\n",
       "      <td>1.422677e+08</td>\n",
       "      <td>1.455770e+08</td>\n",
       "      <td>1.776954e+08</td>\n",
       "      <td>1.426176e+08</td>\n",
       "      <td>1.344151e+08</td>\n",
       "      <td>1.687452e+08</td>\n",
       "      <td>1.440445e+08</td>\n",
       "      <td>1.927286e+08</td>\n",
       "    </tr>\n",
       "    <tr>\n",
       "      <th>2011</th>\n",
       "      <td>1.170809e+08</td>\n",
       "      <td>1.320987e+08</td>\n",
       "      <td>1.341586e+08</td>\n",
       "      <td>1.710181e+08</td>\n",
       "      <td>1.382097e+08</td>\n",
       "      <td>1.441182e+08</td>\n",
       "      <td>1.762046e+08</td>\n",
       "      <td>1.398143e+08</td>\n",
       "      <td>1.668033e+08</td>\n",
       "      <td>1.375280e+08</td>\n",
       "      <td>1.034907e+08</td>\n",
       "      <td>1.597524e+08</td>\n",
       "    </tr>\n",
       "    <tr>\n",
       "      <th>2012</th>\n",
       "      <td>1.172222e+08</td>\n",
       "      <td>8.915290e+07</td>\n",
       "      <td>1.734250e+08</td>\n",
       "      <td>1.479222e+08</td>\n",
       "      <td>1.512280e+08</td>\n",
       "      <td>1.902330e+08</td>\n",
       "      <td>1.458221e+08</td>\n",
       "      <td>1.636039e+08</td>\n",
       "      <td>1.432228e+08</td>\n",
       "      <td>1.480537e+08</td>\n",
       "      <td>NaN</td>\n",
       "      <td>NaN</td>\n",
       "    </tr>\n",
       "  </tbody>\n",
       "</table>\n",
       "</div>"
      ],
      "text/plain": [
       "Month            1             2             3             4             5   \\\n",
       "Year                                                                          \n",
       "2010            NaN  1.365986e+08  1.369976e+08  1.753251e+08  1.422677e+08   \n",
       "2011   1.170809e+08  1.320987e+08  1.341586e+08  1.710181e+08  1.382097e+08   \n",
       "2012   1.172222e+08  8.915290e+07  1.734250e+08  1.479222e+08  1.512280e+08   \n",
       "\n",
       "Month            6             7             8             9             10  \\\n",
       "Year                                                                          \n",
       "2010   1.455770e+08  1.776954e+08  1.426176e+08  1.344151e+08  1.687452e+08   \n",
       "2011   1.441182e+08  1.762046e+08  1.398143e+08  1.668033e+08  1.375280e+08   \n",
       "2012   1.902330e+08  1.458221e+08  1.636039e+08  1.432228e+08  1.480537e+08   \n",
       "\n",
       "Month            11            12  \n",
       "Year                               \n",
       "2010   1.440445e+08  1.927286e+08  \n",
       "2011   1.034907e+08  1.597524e+08  \n",
       "2012            NaN           NaN  "
      ]
     },
     "execution_count": 39,
     "metadata": {},
     "output_type": "execute_result"
    }
   ],
   "source": [
    "data_monthly = pd.crosstab(data[\"Year\"], data[\"Month\"], values=data[\"Weekly_Sales\"],aggfunc='sum')\n",
    "data_monthly"
   ]
  },
  {
   "cell_type": "code",
   "execution_count": 40,
   "metadata": {
    "colab": {
     "base_uri": "https://localhost:8080/",
     "height": 504
    },
    "id": "k7HPlaiSy7_d",
    "outputId": "bcf3b8f7-ad0e-465d-92c6-a5b50365a39d"
   },
   "outputs": [
    {
     "data": {
      "image/png": "[encoded data removed]",
      "text/plain": [
       "<Figure size 1152x576 with 12 Axes>"
      ]
     },
     "metadata": {
      "needs_background": "light"
     },
     "output_type": "display_data"
    }
   ],
   "source": [
    "fig, axes = plt.subplots(3,4,figsize=(16,8))\n",
    "plt.suptitle('Monthly Sales for each Year', fontsize=18)\n",
    "k=1\n",
    "for i in range(3):\n",
    "    for j in range(4):\n",
    "      sns.lineplot(ax=axes[i,j],data=data_monthly[k])\n",
    "      plt.subplots_adjust(wspace=0.4,hspace=0.32)\n",
    "      plt.ylabel(k,fontsize=12)\n",
    "      plt.xlabel('Years',fontsize=12)\n",
    "      k+=1\n",
    "\n",
    "plt.savefig('plots/monthly_sales_every_year.png')\n",
    "plt.show()"
   ]
  },
  {
   "cell_type": "markdown",
   "metadata": {
    "id": "PDmt1BGVkI7W"
   },
   "source": [
    "**Average Weekly Sales Store wise**"
   ]
  },
  {
   "cell_type": "code",
   "execution_count": 41,
   "metadata": {
    "colab": {
     "base_uri": "https://localhost:8080/",
     "height": 391
    },
    "id": "P1Ewhd_AkveL",
    "outputId": "b27aaaab-68d5-4cae-969c-8898ac394aa5"
   },
   "outputs": [
    {
     "data": {
      "image/png": "[encoded data removed]",
      "text/plain": [
       "<Figure size 1440x576 with 1 Axes>"
      ]
     },
     "metadata": {
      "needs_background": "light"
     },
     "output_type": "display_data"
    }
   ],
   "source": [
    "plt.figure(figsize=(20,8))\n",
    "sns.barplot(x='Store',y='Weekly_Sales',data=data)\n",
    "plt.grid()\n",
    "plt.title('Average Sales per Store', fontsize=18)\n",
    "plt.ylabel('Sales', fontsize=16)\n",
    "plt.xlabel('Store', fontsize=16)\n",
    "plt.savefig('plots/avg_sales_store.png')\n",
    "plt.show()"
   ]
  },
  {
   "cell_type": "code",
   "execution_count": 42,
   "metadata": {
    "colab": {
     "base_uri": "https://localhost:8080/",
     "height": 392
    },
    "id": "gaeNuQSFlIYW",
    "outputId": "aef6959e-11c6-4b22-9609-ce5448fe1332"
   },
   "outputs": [
    {
     "data": {
      "image/png": "[encoded data removed]",
      "text/plain": [
       "<Figure size 1440x576 with 1 Axes>"
      ]
     },
     "metadata": {
      "needs_background": "light"
     },
     "output_type": "display_data"
    }
   ],
   "source": [
    "plt.figure(figsize=(20,8))\n",
    "sns.barplot(x='Dept',y='Weekly_Sales',data=data)\n",
    "plt.grid()\n",
    "plt.title('Average Sales per Department', fontsize=18)\n",
    "plt.ylabel('Sales', fontsize=16)\n",
    "plt.xlabel('Department', fontsize=16)\n",
    "plt.savefig('plots/avg_sales_dept.png')\n",
    "plt.show()"
   ]
  },
  {
   "cell_type": "markdown",
   "metadata": {
    "id": "apz8WOwOhGSy"
   },
   "source": [
    "**Sales Vs Temperature**"
   ]
  },
  {
   "cell_type": "code",
   "execution_count": 43,
   "metadata": {
    "colab": {
     "base_uri": "https://localhost:8080/",
     "height": 573
    },
    "id": "RcG8eq9siiCj",
    "outputId": "b60ad262-fe18-40f2-8311-c4ca38c224ff"
   },
   "outputs": [
    {
     "name": "stderr",
     "output_type": "stream",
     "text": [
      "C:\\Users\\HP\\miniconda3\\lib\\site-packages\\seaborn\\distributions.py:2619: FutureWarning: `distplot` is a deprecated function and will be removed in a future version. Please adapt your code to use either `displot` (a figure-level function with similar flexibility) or `histplot` (an axes-level function for histograms).\n",
      "  warnings.warn(msg, FutureWarning)\n"
     ]
    },
    {
     "data": {
      "image/png": "[encoded data removed]",
      "text/plain": [
       "<Figure size 720x576 with 1 Axes>"
      ]
     },
     "metadata": {
      "needs_background": "light"
     },
     "output_type": "display_data"
    }
   ],
   "source": [
    "plt.figure(figsize=(10,8))\n",
    "sns.distplot(data['Temperature'])\n",
    "plt.title('Effect of Temperature',fontsize=15)\n",
    "plt.xlabel('Temperature',fontsize=14)\n",
    "plt.ylabel('Density',fontsize=14)\n",
    "plt.savefig('plots/effect_of_temp.png')\n",
    "plt.show()"
   ]
  },
  {
   "cell_type": "markdown",
   "metadata": {
    "id": "8ZJbp5vAmpqr"
   },
   "source": [
    "**Holiday Distribution**"
   ]
  },
  {
   "cell_type": "code",
   "execution_count": 44,
   "metadata": {
    "colab": {
     "base_uri": "https://localhost:8080/",
     "height": 483
    },
    "id": "4TFcSmkPl1HK",
    "outputId": "6fe0ffa2-965c-412b-d2e5-a8d16777a91d"
   },
   "outputs": [
    {
     "data": {
      "image/png": "[encoded data removed]",
      "text/plain": [
       "<Figure size 576x576 with 1 Axes>"
      ]
     },
     "metadata": {},
     "output_type": "display_data"
    }
   ],
   "source": [
    "plt.figure(figsize=(8,8))\n",
    "plt.pie(data['IsHoliday'].value_counts(),labels=['No Holiday','Holiday'],autopct='%0.2f%%')\n",
    "plt.title(\"Pie chart distribution\",fontsize=14)\n",
    "plt.legend()\n",
    "plt.savefig('plots/holiday_distribution.png')\n",
    "plt.show()"
   ]
  },
  {
   "cell_type": "markdown",
   "metadata": {
    "id": "GxEw2vNuIzeU"
   },
   "source": [
    "#**Time Series Decompose**"
   ]
  },
  {
   "cell_type": "code",
   "execution_count": 45,
   "metadata": {
    "colab": {
     "base_uri": "https://localhost:8080/",
     "height": 299
    },
    "id": "m2Qpf_k2IyzE",
    "outputId": "ebb7a9f8-198b-4a16-ddb5-eec6cd773fdb"
   },
   "outputs": [
    {
     "data": {
      "image/png": "[encoded data removed]",
      "text/plain": [
       "<Figure size 432x288 with 4 Axes>"
      ]
     },
     "metadata": {
      "needs_background": "light"
     },
     "output_type": "display_data"
    }
   ],
   "source": [
    "sm.tsa.seasonal_decompose(data['Weekly_Sales'].resample('MS').mean(), model='additive').plot()\n",
    "plt.savefig('plots/seasonal_decompose.png')\n",
    "plt.show()"
   ]
  },
  {
   "cell_type": "markdown",
   "metadata": {
    "id": "f4sARj9o9Lv3"
   },
   "source": [
    "# **One-hot-encoding**"
   ]
  },
  {
   "cell_type": "code",
   "execution_count": 46,
   "metadata": {
    "id": "iRwI4-QhuxT6"
   },
   "outputs": [],
   "source": [
    "cat_col = ['Store','Dept','Type']\n",
    "data_cat = data[cat_col].copy()"
   ]
  },
  {
   "cell_type": "code",
   "execution_count": 47,
   "metadata": {
    "colab": {
     "base_uri": "https://localhost:8080/",
     "height": 235
    },
    "id": "SmxC3_qC_5IW",
    "outputId": "282049b7-4a27-46d3-91b5-3d0a27648f06"
   },
   "outputs": [
    {
     "data": {
      "text/html": [
       "<div>\n",
       "<style scoped>\n",
       "    .dataframe tbody tr th:only-of-type {\n",
       "        vertical-align: middle;\n",
       "    }\n",
       "\n",
       "    .dataframe tbody tr th {\n",
       "        vertical-align: top;\n",
       "    }\n",
       "\n",
       "    .dataframe thead th {\n",
       "        text-align: right;\n",
       "    }\n",
       "</style>\n",
       "<table border=\"1\" class=\"dataframe\">\n",
       "  <thead>\n",
       "    <tr style=\"text-align: right;\">\n",
       "      <th></th>\n",
       "      <th>Store</th>\n",
       "      <th>Dept</th>\n",
       "      <th>Type</th>\n",
       "    </tr>\n",
       "    <tr>\n",
       "      <th>Date</th>\n",
       "      <th></th>\n",
       "      <th></th>\n",
       "      <th></th>\n",
       "    </tr>\n",
       "  </thead>\n",
       "  <tbody>\n",
       "    <tr>\n",
       "      <th>2012-10-26</th>\n",
       "      <td>2</td>\n",
       "      <td>26</td>\n",
       "      <td>A</td>\n",
       "    </tr>\n",
       "    <tr>\n",
       "      <th>2012-10-26</th>\n",
       "      <td>38</td>\n",
       "      <td>23</td>\n",
       "      <td>C</td>\n",
       "    </tr>\n",
       "    <tr>\n",
       "      <th>2012-10-26</th>\n",
       "      <td>27</td>\n",
       "      <td>6</td>\n",
       "      <td>A</td>\n",
       "    </tr>\n",
       "    <tr>\n",
       "      <th>2012-10-26</th>\n",
       "      <td>36</td>\n",
       "      <td>40</td>\n",
       "      <td>A</td>\n",
       "    </tr>\n",
       "    <tr>\n",
       "      <th>2012-10-26</th>\n",
       "      <td>45</td>\n",
       "      <td>98</td>\n",
       "      <td>B</td>\n",
       "    </tr>\n",
       "  </tbody>\n",
       "</table>\n",
       "</div>"
      ],
      "text/plain": [
       "            Store  Dept Type\n",
       "Date                        \n",
       "2012-10-26      2    26    A\n",
       "2012-10-26     38    23    C\n",
       "2012-10-26     27     6    A\n",
       "2012-10-26     36    40    A\n",
       "2012-10-26     45    98    B"
      ]
     },
     "execution_count": 47,
     "metadata": {},
     "output_type": "execute_result"
    }
   ],
   "source": [
    "data_cat.tail()"
   ]
  },
  {
   "cell_type": "code",
   "execution_count": 48,
   "metadata": {
    "id": "MEDot2xgJZVq"
   },
   "outputs": [],
   "source": [
    "data_cat = pd.get_dummies(data_cat,columns=cat_col)"
   ]
  },
  {
   "cell_type": "code",
   "execution_count": 49,
   "metadata": {
    "colab": {
     "base_uri": "https://localhost:8080/",
     "height": 369
    },
    "id": "VZ038dbcJj-r",
    "outputId": "0dca55eb-9af0-4f00-c01d-cbcc85ffec4d"
   },
   "outputs": [
    {
     "data": {
      "text/html": [
       "<div>\n",
       "<style scoped>\n",
       "    .dataframe tbody tr th:only-of-type {\n",
       "        vertical-align: middle;\n",
       "    }\n",
       "\n",
       "    .dataframe tbody tr th {\n",
       "        vertical-align: top;\n",
       "    }\n",
       "\n",
       "    .dataframe thead th {\n",
       "        text-align: right;\n",
       "    }\n",
       "</style>\n",
       "<table border=\"1\" class=\"dataframe\">\n",
       "  <thead>\n",
       "    <tr style=\"text-align: right;\">\n",
       "      <th></th>\n",
       "      <th>Store_1</th>\n",
       "      <th>Store_2</th>\n",
       "      <th>Store_3</th>\n",
       "      <th>Store_4</th>\n",
       "      <th>Store_5</th>\n",
       "      <th>Store_6</th>\n",
       "      <th>Store_7</th>\n",
       "      <th>Store_8</th>\n",
       "      <th>Store_9</th>\n",
       "      <th>Store_10</th>\n",
       "      <th>...</th>\n",
       "      <th>Dept_93</th>\n",
       "      <th>Dept_94</th>\n",
       "      <th>Dept_95</th>\n",
       "      <th>Dept_96</th>\n",
       "      <th>Dept_97</th>\n",
       "      <th>Dept_98</th>\n",
       "      <th>Dept_99</th>\n",
       "      <th>Type_A</th>\n",
       "      <th>Type_B</th>\n",
       "      <th>Type_C</th>\n",
       "    </tr>\n",
       "    <tr>\n",
       "      <th>Date</th>\n",
       "      <th></th>\n",
       "      <th></th>\n",
       "      <th></th>\n",
       "      <th></th>\n",
       "      <th></th>\n",
       "      <th></th>\n",
       "      <th></th>\n",
       "      <th></th>\n",
       "      <th></th>\n",
       "      <th></th>\n",
       "      <th></th>\n",
       "      <th></th>\n",
       "      <th></th>\n",
       "      <th></th>\n",
       "      <th></th>\n",
       "      <th></th>\n",
       "      <th></th>\n",
       "      <th></th>\n",
       "      <th></th>\n",
       "      <th></th>\n",
       "      <th></th>\n",
       "    </tr>\n",
       "  </thead>\n",
       "  <tbody>\n",
       "    <tr>\n",
       "      <th>2010-02-05</th>\n",
       "      <td>1</td>\n",
       "      <td>0</td>\n",
       "      <td>0</td>\n",
       "      <td>0</td>\n",
       "      <td>0</td>\n",
       "      <td>0</td>\n",
       "      <td>0</td>\n",
       "      <td>0</td>\n",
       "      <td>0</td>\n",
       "      <td>0</td>\n",
       "      <td>...</td>\n",
       "      <td>0</td>\n",
       "      <td>0</td>\n",
       "      <td>0</td>\n",
       "      <td>0</td>\n",
       "      <td>0</td>\n",
       "      <td>0</td>\n",
       "      <td>0</td>\n",
       "      <td>1</td>\n",
       "      <td>0</td>\n",
       "      <td>0</td>\n",
       "    </tr>\n",
       "    <tr>\n",
       "      <th>2010-02-05</th>\n",
       "      <td>0</td>\n",
       "      <td>0</td>\n",
       "      <td>0</td>\n",
       "      <td>0</td>\n",
       "      <td>0</td>\n",
       "      <td>0</td>\n",
       "      <td>0</td>\n",
       "      <td>0</td>\n",
       "      <td>1</td>\n",
       "      <td>0</td>\n",
       "      <td>...</td>\n",
       "      <td>0</td>\n",
       "      <td>0</td>\n",
       "      <td>0</td>\n",
       "      <td>0</td>\n",
       "      <td>1</td>\n",
       "      <td>0</td>\n",
       "      <td>0</td>\n",
       "      <td>0</td>\n",
       "      <td>1</td>\n",
       "      <td>0</td>\n",
       "    </tr>\n",
       "    <tr>\n",
       "      <th>2010-02-05</th>\n",
       "      <td>0</td>\n",
       "      <td>0</td>\n",
       "      <td>0</td>\n",
       "      <td>0</td>\n",
       "      <td>0</td>\n",
       "      <td>0</td>\n",
       "      <td>0</td>\n",
       "      <td>0</td>\n",
       "      <td>1</td>\n",
       "      <td>0</td>\n",
       "      <td>...</td>\n",
       "      <td>0</td>\n",
       "      <td>0</td>\n",
       "      <td>0</td>\n",
       "      <td>0</td>\n",
       "      <td>0</td>\n",
       "      <td>0</td>\n",
       "      <td>0</td>\n",
       "      <td>0</td>\n",
       "      <td>1</td>\n",
       "      <td>0</td>\n",
       "    </tr>\n",
       "    <tr>\n",
       "      <th>2010-02-05</th>\n",
       "      <td>0</td>\n",
       "      <td>0</td>\n",
       "      <td>0</td>\n",
       "      <td>0</td>\n",
       "      <td>0</td>\n",
       "      <td>0</td>\n",
       "      <td>0</td>\n",
       "      <td>1</td>\n",
       "      <td>0</td>\n",
       "      <td>0</td>\n",
       "      <td>...</td>\n",
       "      <td>0</td>\n",
       "      <td>0</td>\n",
       "      <td>0</td>\n",
       "      <td>0</td>\n",
       "      <td>0</td>\n",
       "      <td>0</td>\n",
       "      <td>0</td>\n",
       "      <td>1</td>\n",
       "      <td>0</td>\n",
       "      <td>0</td>\n",
       "    </tr>\n",
       "    <tr>\n",
       "      <th>2010-02-05</th>\n",
       "      <td>0</td>\n",
       "      <td>0</td>\n",
       "      <td>0</td>\n",
       "      <td>0</td>\n",
       "      <td>0</td>\n",
       "      <td>0</td>\n",
       "      <td>0</td>\n",
       "      <td>0</td>\n",
       "      <td>1</td>\n",
       "      <td>0</td>\n",
       "      <td>...</td>\n",
       "      <td>0</td>\n",
       "      <td>0</td>\n",
       "      <td>0</td>\n",
       "      <td>0</td>\n",
       "      <td>0</td>\n",
       "      <td>0</td>\n",
       "      <td>0</td>\n",
       "      <td>0</td>\n",
       "      <td>1</td>\n",
       "      <td>0</td>\n",
       "    </tr>\n",
       "  </tbody>\n",
       "</table>\n",
       "<p>5 rows × 129 columns</p>\n",
       "</div>"
      ],
      "text/plain": [
       "            Store_1  Store_2  Store_3  Store_4  Store_5  Store_6  Store_7  \\\n",
       "Date                                                                        \n",
       "2010-02-05        1        0        0        0        0        0        0   \n",
       "2010-02-05        0        0        0        0        0        0        0   \n",
       "2010-02-05        0        0        0        0        0        0        0   \n",
       "2010-02-05        0        0        0        0        0        0        0   \n",
       "2010-02-05        0        0        0        0        0        0        0   \n",
       "\n",
       "            Store_8  Store_9  Store_10  ...  Dept_93  Dept_94  Dept_95  \\\n",
       "Date                                    ...                              \n",
       "2010-02-05        0        0         0  ...        0        0        0   \n",
       "2010-02-05        0        1         0  ...        0        0        0   \n",
       "2010-02-05        0        1         0  ...        0        0        0   \n",
       "2010-02-05        1        0         0  ...        0        0        0   \n",
       "2010-02-05        0        1         0  ...        0        0        0   \n",
       "\n",
       "            Dept_96  Dept_97  Dept_98  Dept_99  Type_A  Type_B  Type_C  \n",
       "Date                                                                    \n",
       "2010-02-05        0        0        0        0       1       0       0  \n",
       "2010-02-05        0        1        0        0       0       1       0  \n",
       "2010-02-05        0        0        0        0       0       1       0  \n",
       "2010-02-05        0        0        0        0       1       0       0  \n",
       "2010-02-05        0        0        0        0       0       1       0  \n",
       "\n",
       "[5 rows x 129 columns]"
      ]
     },
     "execution_count": 49,
     "metadata": {},
     "output_type": "execute_result"
    }
   ],
   "source": [
    "data_cat.head()"
   ]
  },
  {
   "cell_type": "code",
   "execution_count": 50,
   "metadata": {
    "colab": {
     "base_uri": "https://localhost:8080/"
    },
    "id": "3piRczIcJmXM",
    "outputId": "9d2003ec-6450-40f2-a9b0-0269ae9feefa"
   },
   "outputs": [
    {
     "data": {
      "text/plain": [
       "(374247, 20)"
      ]
     },
     "execution_count": 50,
     "metadata": {},
     "output_type": "execute_result"
    }
   ],
   "source": [
    "data.shape"
   ]
  },
  {
   "cell_type": "code",
   "execution_count": 51,
   "metadata": {
    "id": "DOAjVFMFJp0u"
   },
   "outputs": [],
   "source": [
    "data = pd.concat([data, data_cat],axis=1)"
   ]
  },
  {
   "cell_type": "code",
   "execution_count": 52,
   "metadata": {
    "colab": {
     "base_uri": "https://localhost:8080/"
    },
    "id": "cDAxi7mHJyCN",
    "outputId": "81b901f7-2743-4aeb-a700-0a40a560572c"
   },
   "outputs": [
    {
     "data": {
      "text/plain": [
       "(374247, 149)"
      ]
     },
     "execution_count": 52,
     "metadata": {},
     "output_type": "execute_result"
    }
   ],
   "source": [
    "data.shape"
   ]
  },
  {
   "cell_type": "code",
   "execution_count": 53,
   "metadata": {
    "id": "zsjaxPbKJ0Hj"
   },
   "outputs": [],
   "source": [
    "data.drop(columns=cat_col,inplace=True)"
   ]
  },
  {
   "cell_type": "code",
   "execution_count": 54,
   "metadata": {
    "id": "z1qCG65bJ2Fq"
   },
   "outputs": [],
   "source": [
    "data.drop(columns=['Date'],inplace=True)"
   ]
  },
  {
   "cell_type": "code",
   "execution_count": 55,
   "metadata": {
    "colab": {
     "base_uri": "https://localhost:8080/"
    },
    "id": "FwF2J_3nJ36C",
    "outputId": "207d5880-a5e4-41e9-bfeb-ee79652d921e"
   },
   "outputs": [
    {
     "data": {
      "text/plain": [
       "(374247, 145)"
      ]
     },
     "execution_count": 55,
     "metadata": {},
     "output_type": "execute_result"
    }
   ],
   "source": [
    "data.shape"
   ]
  },
  {
   "cell_type": "markdown",
   "metadata": {
    "id": "ICOVFNKJ9MR1"
   },
   "source": [
    "# **Data Normalization**"
   ]
  },
  {
   "cell_type": "code",
   "execution_count": 56,
   "metadata": {
    "id": "uZHFnxBKN9Qe"
   },
   "outputs": [],
   "source": [
    "num_col = ['Weekly_Sales','Size','Temperature','Fuel_Price','CPI','Unemployment','Total_MarkDown','max','min','mean','median','std']"
   ]
  },
  {
   "cell_type": "code",
   "execution_count": 57,
   "metadata": {
    "id": "zqApj2pXORkT"
   },
   "outputs": [],
   "source": [
    "minmax_scale = MinMaxScaler(feature_range=(0, 1))\n",
    "def normalization(df,col):\n",
    "  for i in col:\n",
    "    arr = df[i]\n",
    "    arr = np.array(arr)\n",
    "    df[i] = minmax_scale.fit_transform(arr.reshape(len(arr),1))\n",
    "  return df"
   ]
  },
  {
   "cell_type": "code",
   "execution_count": 58,
   "metadata": {
    "colab": {
     "base_uri": "https://localhost:8080/",
     "height": 369
    },
    "id": "ldJonBQ6OUKT",
    "outputId": "ee1152e7-d3e8-45b6-cdc0-f37ff5e89d33"
   },
   "outputs": [
    {
     "data": {
      "text/html": [
       "<div>\n",
       "<style scoped>\n",
       "    .dataframe tbody tr th:only-of-type {\n",
       "        vertical-align: middle;\n",
       "    }\n",
       "\n",
       "    .dataframe tbody tr th {\n",
       "        vertical-align: top;\n",
       "    }\n",
       "\n",
       "    .dataframe thead th {\n",
       "        text-align: right;\n",
       "    }\n",
       "</style>\n",
       "<table border=\"1\" class=\"dataframe\">\n",
       "  <thead>\n",
       "    <tr style=\"text-align: right;\">\n",
       "      <th></th>\n",
       "      <th>Weekly_Sales</th>\n",
       "      <th>Size</th>\n",
       "      <th>Temperature</th>\n",
       "      <th>Fuel_Price</th>\n",
       "      <th>CPI</th>\n",
       "      <th>Unemployment</th>\n",
       "      <th>IsHoliday</th>\n",
       "      <th>Year</th>\n",
       "      <th>Month</th>\n",
       "      <th>Week</th>\n",
       "      <th>...</th>\n",
       "      <th>Dept_93</th>\n",
       "      <th>Dept_94</th>\n",
       "      <th>Dept_95</th>\n",
       "      <th>Dept_96</th>\n",
       "      <th>Dept_97</th>\n",
       "      <th>Dept_98</th>\n",
       "      <th>Dept_99</th>\n",
       "      <th>Type_A</th>\n",
       "      <th>Type_B</th>\n",
       "      <th>Type_C</th>\n",
       "    </tr>\n",
       "    <tr>\n",
       "      <th>Date</th>\n",
       "      <th></th>\n",
       "      <th></th>\n",
       "      <th></th>\n",
       "      <th></th>\n",
       "      <th></th>\n",
       "      <th></th>\n",
       "      <th></th>\n",
       "      <th></th>\n",
       "      <th></th>\n",
       "      <th></th>\n",
       "      <th></th>\n",
       "      <th></th>\n",
       "      <th></th>\n",
       "      <th></th>\n",
       "      <th></th>\n",
       "      <th></th>\n",
       "      <th></th>\n",
       "      <th></th>\n",
       "      <th></th>\n",
       "      <th></th>\n",
       "      <th></th>\n",
       "    </tr>\n",
       "  </thead>\n",
       "  <tbody>\n",
       "    <tr>\n",
       "      <th>2010-02-05</th>\n",
       "      <td>24924.50</td>\n",
       "      <td>151315</td>\n",
       "      <td>42.31</td>\n",
       "      <td>2.572</td>\n",
       "      <td>211.096358</td>\n",
       "      <td>8.106</td>\n",
       "      <td>0</td>\n",
       "      <td>2010</td>\n",
       "      <td>2</td>\n",
       "      <td>5</td>\n",
       "      <td>...</td>\n",
       "      <td>0</td>\n",
       "      <td>0</td>\n",
       "      <td>0</td>\n",
       "      <td>0</td>\n",
       "      <td>0</td>\n",
       "      <td>0</td>\n",
       "      <td>0</td>\n",
       "      <td>1</td>\n",
       "      <td>0</td>\n",
       "      <td>0</td>\n",
       "    </tr>\n",
       "    <tr>\n",
       "      <th>2010-02-05</th>\n",
       "      <td>668.48</td>\n",
       "      <td>125833</td>\n",
       "      <td>38.01</td>\n",
       "      <td>2.572</td>\n",
       "      <td>214.655459</td>\n",
       "      <td>6.415</td>\n",
       "      <td>0</td>\n",
       "      <td>2010</td>\n",
       "      <td>2</td>\n",
       "      <td>5</td>\n",
       "      <td>...</td>\n",
       "      <td>0</td>\n",
       "      <td>0</td>\n",
       "      <td>0</td>\n",
       "      <td>0</td>\n",
       "      <td>1</td>\n",
       "      <td>0</td>\n",
       "      <td>0</td>\n",
       "      <td>0</td>\n",
       "      <td>1</td>\n",
       "      <td>0</td>\n",
       "    </tr>\n",
       "    <tr>\n",
       "      <th>2010-02-05</th>\n",
       "      <td>693.87</td>\n",
       "      <td>125833</td>\n",
       "      <td>38.01</td>\n",
       "      <td>2.572</td>\n",
       "      <td>214.655459</td>\n",
       "      <td>6.415</td>\n",
       "      <td>0</td>\n",
       "      <td>2010</td>\n",
       "      <td>2</td>\n",
       "      <td>5</td>\n",
       "      <td>...</td>\n",
       "      <td>0</td>\n",
       "      <td>0</td>\n",
       "      <td>0</td>\n",
       "      <td>0</td>\n",
       "      <td>0</td>\n",
       "      <td>0</td>\n",
       "      <td>0</td>\n",
       "      <td>0</td>\n",
       "      <td>1</td>\n",
       "      <td>0</td>\n",
       "    </tr>\n",
       "    <tr>\n",
       "      <th>2010-02-05</th>\n",
       "      <td>8654.60</td>\n",
       "      <td>155078</td>\n",
       "      <td>34.14</td>\n",
       "      <td>2.572</td>\n",
       "      <td>214.471451</td>\n",
       "      <td>6.299</td>\n",
       "      <td>0</td>\n",
       "      <td>2010</td>\n",
       "      <td>2</td>\n",
       "      <td>5</td>\n",
       "      <td>...</td>\n",
       "      <td>0</td>\n",
       "      <td>0</td>\n",
       "      <td>0</td>\n",
       "      <td>0</td>\n",
       "      <td>0</td>\n",
       "      <td>0</td>\n",
       "      <td>0</td>\n",
       "      <td>1</td>\n",
       "      <td>0</td>\n",
       "      <td>0</td>\n",
       "    </tr>\n",
       "    <tr>\n",
       "      <th>2010-02-05</th>\n",
       "      <td>11123.56</td>\n",
       "      <td>125833</td>\n",
       "      <td>38.01</td>\n",
       "      <td>2.572</td>\n",
       "      <td>214.655459</td>\n",
       "      <td>6.415</td>\n",
       "      <td>0</td>\n",
       "      <td>2010</td>\n",
       "      <td>2</td>\n",
       "      <td>5</td>\n",
       "      <td>...</td>\n",
       "      <td>0</td>\n",
       "      <td>0</td>\n",
       "      <td>0</td>\n",
       "      <td>0</td>\n",
       "      <td>0</td>\n",
       "      <td>0</td>\n",
       "      <td>0</td>\n",
       "      <td>0</td>\n",
       "      <td>1</td>\n",
       "      <td>0</td>\n",
       "    </tr>\n",
       "  </tbody>\n",
       "</table>\n",
       "<p>5 rows × 145 columns</p>\n",
       "</div>"
      ],
      "text/plain": [
       "            Weekly_Sales    Size  Temperature  Fuel_Price         CPI  \\\n",
       "Date                                                                    \n",
       "2010-02-05      24924.50  151315        42.31       2.572  211.096358   \n",
       "2010-02-05        668.48  125833        38.01       2.572  214.655459   \n",
       "2010-02-05        693.87  125833        38.01       2.572  214.655459   \n",
       "2010-02-05       8654.60  155078        34.14       2.572  214.471451   \n",
       "2010-02-05      11123.56  125833        38.01       2.572  214.655459   \n",
       "\n",
       "            Unemployment  IsHoliday  Year  Month  Week  ...  Dept_93  Dept_94  \\\n",
       "Date                                                    ...                     \n",
       "2010-02-05         8.106          0  2010      2     5  ...        0        0   \n",
       "2010-02-05         6.415          0  2010      2     5  ...        0        0   \n",
       "2010-02-05         6.415          0  2010      2     5  ...        0        0   \n",
       "2010-02-05         6.299          0  2010      2     5  ...        0        0   \n",
       "2010-02-05         6.415          0  2010      2     5  ...        0        0   \n",
       "\n",
       "            Dept_95  Dept_96  Dept_97  Dept_98  Dept_99  Type_A  Type_B  \\\n",
       "Date                                                                      \n",
       "2010-02-05        0        0        0        0        0       1       0   \n",
       "2010-02-05        0        0        1        0        0       0       1   \n",
       "2010-02-05        0        0        0        0        0       0       1   \n",
       "2010-02-05        0        0        0        0        0       1       0   \n",
       "2010-02-05        0        0        0        0        0       0       1   \n",
       "\n",
       "            Type_C  \n",
       "Date                \n",
       "2010-02-05       0  \n",
       "2010-02-05       0  \n",
       "2010-02-05       0  \n",
       "2010-02-05       0  \n",
       "2010-02-05       0  \n",
       "\n",
       "[5 rows x 145 columns]"
      ]
     },
     "execution_count": 58,
     "metadata": {},
     "output_type": "execute_result"
    }
   ],
   "source": [
    "data.head()"
   ]
  },
  {
   "cell_type": "code",
   "execution_count": 59,
   "metadata": {
    "id": "XcebpTzoOXN0"
   },
   "outputs": [],
   "source": [
    "data = normalization(data.copy(),num_col)"
   ]
  },
  {
   "cell_type": "code",
   "execution_count": 60,
   "metadata": {
    "colab": {
     "base_uri": "https://localhost:8080/",
     "height": 369
    },
    "id": "RLEQcg77OYQE",
    "outputId": "a16c999d-8c2a-4cb3-8900-e483ca7b4cdf"
   },
   "outputs": [
    {
     "data": {
      "text/html": [
       "<div>\n",
       "<style scoped>\n",
       "    .dataframe tbody tr th:only-of-type {\n",
       "        vertical-align: middle;\n",
       "    }\n",
       "\n",
       "    .dataframe tbody tr th {\n",
       "        vertical-align: top;\n",
       "    }\n",
       "\n",
       "    .dataframe thead th {\n",
       "        text-align: right;\n",
       "    }\n",
       "</style>\n",
       "<table border=\"1\" class=\"dataframe\">\n",
       "  <thead>\n",
       "    <tr style=\"text-align: right;\">\n",
       "      <th></th>\n",
       "      <th>Weekly_Sales</th>\n",
       "      <th>Size</th>\n",
       "      <th>Temperature</th>\n",
       "      <th>Fuel_Price</th>\n",
       "      <th>CPI</th>\n",
       "      <th>Unemployment</th>\n",
       "      <th>IsHoliday</th>\n",
       "      <th>Year</th>\n",
       "      <th>Month</th>\n",
       "      <th>Week</th>\n",
       "      <th>...</th>\n",
       "      <th>Dept_93</th>\n",
       "      <th>Dept_94</th>\n",
       "      <th>Dept_95</th>\n",
       "      <th>Dept_96</th>\n",
       "      <th>Dept_97</th>\n",
       "      <th>Dept_98</th>\n",
       "      <th>Dept_99</th>\n",
       "      <th>Type_A</th>\n",
       "      <th>Type_B</th>\n",
       "      <th>Type_C</th>\n",
       "    </tr>\n",
       "    <tr>\n",
       "      <th>Date</th>\n",
       "      <th></th>\n",
       "      <th></th>\n",
       "      <th></th>\n",
       "      <th></th>\n",
       "      <th></th>\n",
       "      <th></th>\n",
       "      <th></th>\n",
       "      <th></th>\n",
       "      <th></th>\n",
       "      <th></th>\n",
       "      <th></th>\n",
       "      <th></th>\n",
       "      <th></th>\n",
       "      <th></th>\n",
       "      <th></th>\n",
       "      <th></th>\n",
       "      <th></th>\n",
       "      <th></th>\n",
       "      <th></th>\n",
       "      <th></th>\n",
       "      <th></th>\n",
       "    </tr>\n",
       "  </thead>\n",
       "  <tbody>\n",
       "    <tr>\n",
       "      <th>2010-02-05</th>\n",
       "      <td>0.342576</td>\n",
       "      <td>0.630267</td>\n",
       "      <td>0.328495</td>\n",
       "      <td>0.0501</td>\n",
       "      <td>0.840500</td>\n",
       "      <td>0.508787</td>\n",
       "      <td>0</td>\n",
       "      <td>2010</td>\n",
       "      <td>2</td>\n",
       "      <td>5</td>\n",
       "      <td>...</td>\n",
       "      <td>0</td>\n",
       "      <td>0</td>\n",
       "      <td>0</td>\n",
       "      <td>0</td>\n",
       "      <td>0</td>\n",
       "      <td>0</td>\n",
       "      <td>0</td>\n",
       "      <td>1</td>\n",
       "      <td>0</td>\n",
       "      <td>0</td>\n",
       "    </tr>\n",
       "    <tr>\n",
       "      <th>2010-02-05</th>\n",
       "      <td>0.009188</td>\n",
       "      <td>0.492338</td>\n",
       "      <td>0.278565</td>\n",
       "      <td>0.0501</td>\n",
       "      <td>0.875680</td>\n",
       "      <td>0.305248</td>\n",
       "      <td>0</td>\n",
       "      <td>2010</td>\n",
       "      <td>2</td>\n",
       "      <td>5</td>\n",
       "      <td>...</td>\n",
       "      <td>0</td>\n",
       "      <td>0</td>\n",
       "      <td>0</td>\n",
       "      <td>0</td>\n",
       "      <td>1</td>\n",
       "      <td>0</td>\n",
       "      <td>0</td>\n",
       "      <td>0</td>\n",
       "      <td>1</td>\n",
       "      <td>0</td>\n",
       "    </tr>\n",
       "    <tr>\n",
       "      <th>2010-02-05</th>\n",
       "      <td>0.009537</td>\n",
       "      <td>0.492338</td>\n",
       "      <td>0.278565</td>\n",
       "      <td>0.0501</td>\n",
       "      <td>0.875680</td>\n",
       "      <td>0.305248</td>\n",
       "      <td>0</td>\n",
       "      <td>2010</td>\n",
       "      <td>2</td>\n",
       "      <td>5</td>\n",
       "      <td>...</td>\n",
       "      <td>0</td>\n",
       "      <td>0</td>\n",
       "      <td>0</td>\n",
       "      <td>0</td>\n",
       "      <td>0</td>\n",
       "      <td>0</td>\n",
       "      <td>0</td>\n",
       "      <td>0</td>\n",
       "      <td>1</td>\n",
       "      <td>0</td>\n",
       "    </tr>\n",
       "    <tr>\n",
       "      <th>2010-02-05</th>\n",
       "      <td>0.118953</td>\n",
       "      <td>0.650636</td>\n",
       "      <td>0.233627</td>\n",
       "      <td>0.0501</td>\n",
       "      <td>0.873861</td>\n",
       "      <td>0.291286</td>\n",
       "      <td>0</td>\n",
       "      <td>2010</td>\n",
       "      <td>2</td>\n",
       "      <td>5</td>\n",
       "      <td>...</td>\n",
       "      <td>0</td>\n",
       "      <td>0</td>\n",
       "      <td>0</td>\n",
       "      <td>0</td>\n",
       "      <td>0</td>\n",
       "      <td>0</td>\n",
       "      <td>0</td>\n",
       "      <td>1</td>\n",
       "      <td>0</td>\n",
       "      <td>0</td>\n",
       "    </tr>\n",
       "    <tr>\n",
       "      <th>2010-02-05</th>\n",
       "      <td>0.152888</td>\n",
       "      <td>0.492338</td>\n",
       "      <td>0.278565</td>\n",
       "      <td>0.0501</td>\n",
       "      <td>0.875680</td>\n",
       "      <td>0.305248</td>\n",
       "      <td>0</td>\n",
       "      <td>2010</td>\n",
       "      <td>2</td>\n",
       "      <td>5</td>\n",
       "      <td>...</td>\n",
       "      <td>0</td>\n",
       "      <td>0</td>\n",
       "      <td>0</td>\n",
       "      <td>0</td>\n",
       "      <td>0</td>\n",
       "      <td>0</td>\n",
       "      <td>0</td>\n",
       "      <td>0</td>\n",
       "      <td>1</td>\n",
       "      <td>0</td>\n",
       "    </tr>\n",
       "  </tbody>\n",
       "</table>\n",
       "<p>5 rows × 145 columns</p>\n",
       "</div>"
      ],
      "text/plain": [
       "            Weekly_Sales      Size  Temperature  Fuel_Price       CPI  \\\n",
       "Date                                                                    \n",
       "2010-02-05      0.342576  0.630267     0.328495      0.0501  0.840500   \n",
       "2010-02-05      0.009188  0.492338     0.278565      0.0501  0.875680   \n",
       "2010-02-05      0.009537  0.492338     0.278565      0.0501  0.875680   \n",
       "2010-02-05      0.118953  0.650636     0.233627      0.0501  0.873861   \n",
       "2010-02-05      0.152888  0.492338     0.278565      0.0501  0.875680   \n",
       "\n",
       "            Unemployment  IsHoliday  Year  Month  Week  ...  Dept_93  Dept_94  \\\n",
       "Date                                                    ...                     \n",
       "2010-02-05      0.508787          0  2010      2     5  ...        0        0   \n",
       "2010-02-05      0.305248          0  2010      2     5  ...        0        0   \n",
       "2010-02-05      0.305248          0  2010      2     5  ...        0        0   \n",
       "2010-02-05      0.291286          0  2010      2     5  ...        0        0   \n",
       "2010-02-05      0.305248          0  2010      2     5  ...        0        0   \n",
       "\n",
       "            Dept_95  Dept_96  Dept_97  Dept_98  Dept_99  Type_A  Type_B  \\\n",
       "Date                                                                      \n",
       "2010-02-05        0        0        0        0        0       1       0   \n",
       "2010-02-05        0        0        1        0        0       0       1   \n",
       "2010-02-05        0        0        0        0        0       0       1   \n",
       "2010-02-05        0        0        0        0        0       1       0   \n",
       "2010-02-05        0        0        0        0        0       0       1   \n",
       "\n",
       "            Type_C  \n",
       "Date                \n",
       "2010-02-05       0  \n",
       "2010-02-05       0  \n",
       "2010-02-05       0  \n",
       "2010-02-05       0  \n",
       "2010-02-05       0  \n",
       "\n",
       "[5 rows x 145 columns]"
      ]
     },
     "execution_count": 60,
     "metadata": {},
     "output_type": "execute_result"
    }
   ],
   "source": [
    "data.head()"
   ]
  },
  {
   "cell_type": "markdown",
   "metadata": {
    "id": "h5UrsknFpA4o"
   },
   "source": [
    "# **Correlation between features of dataset**"
   ]
  },
  {
   "cell_type": "code",
   "execution_count": 61,
   "metadata": {
    "colab": {
     "base_uri": "https://localhost:8080/",
     "height": 572
    },
    "id": "sZVqLayCnFXc",
    "outputId": "a442cd17-cbcf-4c92-97ac-34652af26636"
   },
   "outputs": [
    {
     "data": {
      "image/png": "[encoded data removed]",
      "text/plain": [
       "<Figure size 1080x576 with 2 Axes>"
      ]
     },
     "metadata": {
      "needs_background": "light"
     },
     "output_type": "display_data"
    }
   ],
   "source": [
    "plt.figure(figsize=(15,8))\n",
    "corr = data[num_col].corr()\n",
    "sns.heatmap(corr,vmax=1.0,annot=True)\n",
    "plt.title('Correlation Matrix',fontsize=16)\n",
    "plt.savefig('plots/correlation_matrix.png')\n",
    "plt.show()"
   ]
  },
  {
   "cell_type": "markdown",
   "metadata": {
    "id": "K7a8fiS-JGFL"
   },
   "source": [
    "# **Recursive Feature Elimination**"
   ]
  },
  {
   "cell_type": "code",
   "execution_count": 62,
   "metadata": {
    "colab": {
     "base_uri": "https://localhost:8080/"
    },
    "id": "9CvKygO2JZMl",
    "outputId": "714d918f-1a90-44e2-f738-ae629675f3e3"
   },
   "outputs": [
    {
     "data": {
      "text/plain": [
       "Index(['CPI', 'Dept_1', 'Dept_10', 'Dept_11', 'Dept_12', 'Dept_13', 'Dept_14',\n",
       "       'Dept_16', 'Dept_17', 'Dept_18',\n",
       "       ...\n",
       "       'Type_B', 'Type_C', 'Unemployment', 'Week', 'Year', 'max', 'mean',\n",
       "       'median', 'min', 'std'],\n",
       "      dtype='object', length=144)"
      ]
     },
     "execution_count": 62,
     "metadata": {},
     "output_type": "execute_result"
    }
   ],
   "source": [
    "feature_col = data.columns.difference(['Weekly_Sales'])\n",
    "feature_col"
   ]
  },
  {
   "cell_type": "code",
   "execution_count": 63,
   "metadata": {
    "id": "hO7quJpgFJga"
   },
   "outputs": [
    {
     "data": {
      "text/plain": [
       "\"\\nparam_grid={'n_estimators':np.arange(10,25)}\\ntree=GridSearchCV(RandomForestRegressor(oob_score=False,warm_start=True),param_grid,cv=5)\\ntree.fit(data_train[feature_col],data_train['Weekly_Sales'])\\n\""
      ]
     },
     "execution_count": 63,
     "metadata": {},
     "output_type": "execute_result"
    }
   ],
   "source": [
    "'''\n",
    "param_grid={'n_estimators':np.arange(10,25)}\n",
    "tree=GridSearchCV(RandomForestRegressor(oob_score=False,warm_start=True),param_grid,cv=5)\n",
    "tree.fit(data_train[feature_col],data_train['Weekly_Sales'])\n",
    "'''"
   ]
  },
  {
   "cell_type": "code",
   "execution_count": 64,
   "metadata": {
    "id": "Kth1dgTmJnrQ"
   },
   "outputs": [],
   "source": [
    "#tree.best_params_"
   ]
  },
  {
   "cell_type": "code",
   "execution_count": 65,
   "metadata": {
    "colab": {
     "base_uri": "https://localhost:8080/"
    },
    "id": "ITLSjNWaOt6T",
    "outputId": "aede9ed5-a8af-4459-caa4-6378f33ce593"
   },
   "outputs": [
    {
     "name": "stderr",
     "output_type": "stream",
     "text": [
      "C:\\Users\\HP\\miniconda3\\lib\\site-packages\\sklearn\\ensemble\\_forest.py:564: UserWarning: Some inputs do not have OOB scores. This probably means too few trees were used to compute any reliable OOB estimates.\n",
      "  UserWarning,\n"
     ]
    },
    {
     "data": {
      "text/plain": [
       "RandomForestRegressor(n_estimators=23, oob_score=True)"
      ]
     },
     "execution_count": 65,
     "metadata": {},
     "output_type": "execute_result"
    }
   ],
   "source": [
    "radm_clf = RandomForestRegressor(oob_score=True,n_estimators=23)\n",
    "radm_clf.fit(data[feature_col], data['Weekly_Sales'])"
   ]
  },
  {
   "cell_type": "code",
   "execution_count": 66,
   "metadata": {
    "colab": {
     "base_uri": "https://localhost:8080/"
    },
    "id": "GzZ5KoNpR1EP",
    "outputId": "a9bad226-641d-48af-9485-01015c6e5b75"
   },
   "outputs": [
    {
     "name": "stdout",
     "output_type": "stream",
     "text": [
      "Saved model to disk\n"
     ]
    }
   ],
   "source": [
    "pkl_filename = \"./models/feature_elim_regressor.pkl\"\n",
    "if (not path.isfile(pkl_filename)):\n",
    "  # saving the trained model to disk \n",
    "  with open(pkl_filename, 'wb') as file:\n",
    "    pickle.dump(radm_clf, file)\n",
    "  print(\"Saved model to disk\")\n",
    "else:\n",
    "  print(\"Model already saved\")"
   ]
  },
  {
   "cell_type": "code",
   "execution_count": 67,
   "metadata": {
    "colab": {
     "base_uri": "https://localhost:8080/",
     "height": 419
    },
    "id": "HAn7lMmPO49U",
    "outputId": "48011d12-d876-4fdf-b173-546357de8c88"
   },
   "outputs": [
    {
     "data": {
      "text/html": [
       "<div>\n",
       "<style scoped>\n",
       "    .dataframe tbody tr th:only-of-type {\n",
       "        vertical-align: middle;\n",
       "    }\n",
       "\n",
       "    .dataframe tbody tr th {\n",
       "        vertical-align: top;\n",
       "    }\n",
       "\n",
       "    .dataframe thead th {\n",
       "        text-align: right;\n",
       "    }\n",
       "</style>\n",
       "<table border=\"1\" class=\"dataframe\">\n",
       "  <thead>\n",
       "    <tr style=\"text-align: right;\">\n",
       "      <th></th>\n",
       "      <th>rank</th>\n",
       "      <th>feature</th>\n",
       "      <th>importance</th>\n",
       "    </tr>\n",
       "  </thead>\n",
       "  <tbody>\n",
       "    <tr>\n",
       "      <th>0</th>\n",
       "      <td>1</td>\n",
       "      <td>mean</td>\n",
       "      <td>5.735868e-01</td>\n",
       "    </tr>\n",
       "    <tr>\n",
       "      <th>1</th>\n",
       "      <td>2</td>\n",
       "      <td>median</td>\n",
       "      <td>3.543792e-01</td>\n",
       "    </tr>\n",
       "    <tr>\n",
       "      <th>2</th>\n",
       "      <td>3</td>\n",
       "      <td>Week</td>\n",
       "      <td>2.004357e-02</td>\n",
       "    </tr>\n",
       "    <tr>\n",
       "      <th>3</th>\n",
       "      <td>4</td>\n",
       "      <td>Temperature</td>\n",
       "      <td>8.782687e-03</td>\n",
       "    </tr>\n",
       "    <tr>\n",
       "      <th>4</th>\n",
       "      <td>5</td>\n",
       "      <td>CPI</td>\n",
       "      <td>5.843961e-03</td>\n",
       "    </tr>\n",
       "    <tr>\n",
       "      <th>...</th>\n",
       "      <td>...</td>\n",
       "      <td>...</td>\n",
       "      <td>...</td>\n",
       "    </tr>\n",
       "    <tr>\n",
       "      <th>139</th>\n",
       "      <td>140</td>\n",
       "      <td>Dept_45</td>\n",
       "      <td>1.995891e-10</td>\n",
       "    </tr>\n",
       "    <tr>\n",
       "      <th>140</th>\n",
       "      <td>141</td>\n",
       "      <td>Dept_51</td>\n",
       "      <td>1.977492e-10</td>\n",
       "    </tr>\n",
       "    <tr>\n",
       "      <th>141</th>\n",
       "      <td>142</td>\n",
       "      <td>Dept_78</td>\n",
       "      <td>5.570866e-12</td>\n",
       "    </tr>\n",
       "    <tr>\n",
       "      <th>142</th>\n",
       "      <td>143</td>\n",
       "      <td>Dept_39</td>\n",
       "      <td>1.672451e-14</td>\n",
       "    </tr>\n",
       "    <tr>\n",
       "      <th>143</th>\n",
       "      <td>144</td>\n",
       "      <td>Dept_43</td>\n",
       "      <td>3.337246e-15</td>\n",
       "    </tr>\n",
       "  </tbody>\n",
       "</table>\n",
       "<p>144 rows × 3 columns</p>\n",
       "</div>"
      ],
      "text/plain": [
       "    rank      feature    importance\n",
       "0      1         mean  5.735868e-01\n",
       "1      2       median  3.543792e-01\n",
       "2      3         Week  2.004357e-02\n",
       "3      4  Temperature  8.782687e-03\n",
       "4      5          CPI  5.843961e-03\n",
       "..   ...          ...           ...\n",
       "139  140      Dept_45  1.995891e-10\n",
       "140  141      Dept_51  1.977492e-10\n",
       "141  142      Dept_78  5.570866e-12\n",
       "142  143      Dept_39  1.672451e-14\n",
       "143  144      Dept_43  3.337246e-15\n",
       "\n",
       "[144 rows x 3 columns]"
      ]
     },
     "execution_count": 67,
     "metadata": {},
     "output_type": "execute_result"
    }
   ],
   "source": [
    "indices = np.argsort(radm_clf.feature_importances_)[::-1]\n",
    "feature_rank = pd.DataFrame(columns = ['rank', 'feature', 'importance'])\n",
    "\n",
    "for f in range(data[feature_col].shape[1]):\n",
    "    feature_rank.loc[f] = [f+1,\n",
    "                           data[feature_col].columns[indices[f]],\n",
    "                           radm_clf.feature_importances_[indices[f]]]\n",
    "\n",
    "feature_rank"
   ]
  },
  {
   "cell_type": "code",
   "execution_count": 68,
   "metadata": {
    "colab": {
     "base_uri": "https://localhost:8080/"
    },
    "id": "5ddUPbntO6Dq",
    "outputId": "529b4fa0-12bb-43e7-f631-3e45b70d0cef"
   },
   "outputs": [
    {
     "name": "stdout",
     "output_type": "stream",
     "text": [
      "['mean', 'median', 'Week', 'Temperature', 'CPI', 'max', 'Fuel_Price', 'min', 'std', 'Unemployment', 'Month', 'Total_MarkDown', 'Dept_16', 'Dept_18', 'IsHoliday', 'Dept_3', 'Size', 'Year', 'Dept_11', 'Dept_9', 'Dept_1', 'Dept_5', 'Dept_56']\n"
     ]
    }
   ],
   "source": [
    "x=feature_rank.loc[0:22,['feature']]\n",
    "x=x['feature'].tolist()\n",
    "print(x)"
   ]
  },
  {
   "cell_type": "code",
   "execution_count": 69,
   "metadata": {
    "id": "NRvVNyuvPHbv"
   },
   "outputs": [],
   "source": [
    "X = data[x]\n",
    "Y = data['Weekly_Sales']"
   ]
  },
  {
   "cell_type": "code",
   "execution_count": 70,
   "metadata": {
    "id": "YqupNIth46XI"
   },
   "outputs": [],
   "source": [
    "data = pd.concat([X,Y],axis=1)"
   ]
  },
  {
   "cell_type": "code",
   "execution_count": 71,
   "metadata": {
    "colab": {
     "base_uri": "https://localhost:8080/",
     "height": 640
    },
    "id": "SDImYhLc5Iu7",
    "outputId": "a58ab857-c4bb-4de8-ec51-6b40d890d096"
   },
   "outputs": [
    {
     "data": {
      "text/html": [
       "<div>\n",
       "<style scoped>\n",
       "    .dataframe tbody tr th:only-of-type {\n",
       "        vertical-align: middle;\n",
       "    }\n",
       "\n",
       "    .dataframe tbody tr th {\n",
       "        vertical-align: top;\n",
       "    }\n",
       "\n",
       "    .dataframe thead th {\n",
       "        text-align: right;\n",
       "    }\n",
       "</style>\n",
       "<table border=\"1\" class=\"dataframe\">\n",
       "  <thead>\n",
       "    <tr style=\"text-align: right;\">\n",
       "      <th></th>\n",
       "      <th>mean</th>\n",
       "      <th>median</th>\n",
       "      <th>Week</th>\n",
       "      <th>Temperature</th>\n",
       "      <th>CPI</th>\n",
       "      <th>max</th>\n",
       "      <th>Fuel_Price</th>\n",
       "      <th>min</th>\n",
       "      <th>std</th>\n",
       "      <th>Unemployment</th>\n",
       "      <th>...</th>\n",
       "      <th>IsHoliday</th>\n",
       "      <th>Dept_3</th>\n",
       "      <th>Size</th>\n",
       "      <th>Year</th>\n",
       "      <th>Dept_11</th>\n",
       "      <th>Dept_9</th>\n",
       "      <th>Dept_1</th>\n",
       "      <th>Dept_5</th>\n",
       "      <th>Dept_56</th>\n",
       "      <th>Weekly_Sales</th>\n",
       "    </tr>\n",
       "    <tr>\n",
       "      <th>Date</th>\n",
       "      <th></th>\n",
       "      <th></th>\n",
       "      <th></th>\n",
       "      <th></th>\n",
       "      <th></th>\n",
       "      <th></th>\n",
       "      <th></th>\n",
       "      <th></th>\n",
       "      <th></th>\n",
       "      <th></th>\n",
       "      <th></th>\n",
       "      <th></th>\n",
       "      <th></th>\n",
       "      <th></th>\n",
       "      <th></th>\n",
       "      <th></th>\n",
       "      <th></th>\n",
       "      <th></th>\n",
       "      <th></th>\n",
       "      <th></th>\n",
       "      <th></th>\n",
       "    </tr>\n",
       "  </thead>\n",
       "  <tbody>\n",
       "    <tr>\n",
       "      <th>2010-02-05</th>\n",
       "      <td>0.208157</td>\n",
       "      <td>0.173215</td>\n",
       "      <td>5</td>\n",
       "      <td>0.328495</td>\n",
       "      <td>0.840500</td>\n",
       "      <td>0.088635</td>\n",
       "      <td>0.050100</td>\n",
       "      <td>0.253530</td>\n",
       "      <td>0.138276</td>\n",
       "      <td>0.508787</td>\n",
       "      <td>...</td>\n",
       "      <td>0</td>\n",
       "      <td>0</td>\n",
       "      <td>0.630267</td>\n",
       "      <td>2010</td>\n",
       "      <td>0</td>\n",
       "      <td>0</td>\n",
       "      <td>1</td>\n",
       "      <td>0</td>\n",
       "      <td>0</td>\n",
       "      <td>0.342576</td>\n",
       "    </tr>\n",
       "    <tr>\n",
       "      <th>2010-02-05</th>\n",
       "      <td>0.004499</td>\n",
       "      <td>0.004767</td>\n",
       "      <td>5</td>\n",
       "      <td>0.278565</td>\n",
       "      <td>0.875680</td>\n",
       "      <td>0.001180</td>\n",
       "      <td>0.050100</td>\n",
       "      <td>0.064648</td>\n",
       "      <td>0.004083</td>\n",
       "      <td>0.305248</td>\n",
       "      <td>...</td>\n",
       "      <td>0</td>\n",
       "      <td>0</td>\n",
       "      <td>0.492338</td>\n",
       "      <td>2010</td>\n",
       "      <td>0</td>\n",
       "      <td>0</td>\n",
       "      <td>0</td>\n",
       "      <td>0</td>\n",
       "      <td>0</td>\n",
       "      <td>0.009188</td>\n",
       "    </tr>\n",
       "    <tr>\n",
       "      <th>2010-02-05</th>\n",
       "      <td>0.009135</td>\n",
       "      <td>0.008968</td>\n",
       "      <td>5</td>\n",
       "      <td>0.278565</td>\n",
       "      <td>0.875680</td>\n",
       "      <td>0.003866</td>\n",
       "      <td>0.050100</td>\n",
       "      <td>0.066212</td>\n",
       "      <td>0.004314</td>\n",
       "      <td>0.305248</td>\n",
       "      <td>...</td>\n",
       "      <td>0</td>\n",
       "      <td>0</td>\n",
       "      <td>0.492338</td>\n",
       "      <td>2010</td>\n",
       "      <td>0</td>\n",
       "      <td>0</td>\n",
       "      <td>0</td>\n",
       "      <td>0</td>\n",
       "      <td>0</td>\n",
       "      <td>0.009537</td>\n",
       "    </tr>\n",
       "    <tr>\n",
       "      <th>2010-02-05</th>\n",
       "      <td>0.085594</td>\n",
       "      <td>0.086290</td>\n",
       "      <td>5</td>\n",
       "      <td>0.233627</td>\n",
       "      <td>0.873861</td>\n",
       "      <td>0.018453</td>\n",
       "      <td>0.050100</td>\n",
       "      <td>0.161046</td>\n",
       "      <td>0.010611</td>\n",
       "      <td>0.291286</td>\n",
       "      <td>...</td>\n",
       "      <td>0</td>\n",
       "      <td>0</td>\n",
       "      <td>0.650636</td>\n",
       "      <td>2010</td>\n",
       "      <td>0</td>\n",
       "      <td>0</td>\n",
       "      <td>0</td>\n",
       "      <td>0</td>\n",
       "      <td>0</td>\n",
       "      <td>0.118953</td>\n",
       "    </tr>\n",
       "    <tr>\n",
       "      <th>2010-02-05</th>\n",
       "      <td>0.080242</td>\n",
       "      <td>0.071542</td>\n",
       "      <td>5</td>\n",
       "      <td>0.278565</td>\n",
       "      <td>0.875680</td>\n",
       "      <td>0.044887</td>\n",
       "      <td>0.050100</td>\n",
       "      <td>0.126993</td>\n",
       "      <td>0.054362</td>\n",
       "      <td>0.305248</td>\n",
       "      <td>...</td>\n",
       "      <td>0</td>\n",
       "      <td>0</td>\n",
       "      <td>0.492338</td>\n",
       "      <td>2010</td>\n",
       "      <td>0</td>\n",
       "      <td>0</td>\n",
       "      <td>0</td>\n",
       "      <td>0</td>\n",
       "      <td>0</td>\n",
       "      <td>0.152888</td>\n",
       "    </tr>\n",
       "    <tr>\n",
       "      <th>...</th>\n",
       "      <td>...</td>\n",
       "      <td>...</td>\n",
       "      <td>...</td>\n",
       "      <td>...</td>\n",
       "      <td>...</td>\n",
       "      <td>...</td>\n",
       "      <td>...</td>\n",
       "      <td>...</td>\n",
       "      <td>...</td>\n",
       "      <td>...</td>\n",
       "      <td>...</td>\n",
       "      <td>...</td>\n",
       "      <td>...</td>\n",
       "      <td>...</td>\n",
       "      <td>...</td>\n",
       "      <td>...</td>\n",
       "      <td>...</td>\n",
       "      <td>...</td>\n",
       "      <td>...</td>\n",
       "      <td>...</td>\n",
       "      <td>...</td>\n",
       "    </tr>\n",
       "    <tr>\n",
       "      <th>2012-10-26</th>\n",
       "      <td>0.087055</td>\n",
       "      <td>0.082590</td>\n",
       "      <td>43</td>\n",
       "      <td>0.647585</td>\n",
       "      <td>0.958935</td>\n",
       "      <td>0.030286</td>\n",
       "      <td>0.518036</td>\n",
       "      <td>0.119050</td>\n",
       "      <td>0.039642</td>\n",
       "      <td>0.275758</td>\n",
       "      <td>...</td>\n",
       "      <td>0</td>\n",
       "      <td>0</td>\n",
       "      <td>0.906277</td>\n",
       "      <td>2012</td>\n",
       "      <td>0</td>\n",
       "      <td>0</td>\n",
       "      <td>0</td>\n",
       "      <td>0</td>\n",
       "      <td>0</td>\n",
       "      <td>0.127259</td>\n",
       "    </tr>\n",
       "    <tr>\n",
       "      <th>2012-10-26</th>\n",
       "      <td>0.001419</td>\n",
       "      <td>0.001617</td>\n",
       "      <td>43</td>\n",
       "      <td>0.602996</td>\n",
       "      <td>0.050698</td>\n",
       "      <td>0.000446</td>\n",
       "      <td>0.916333</td>\n",
       "      <td>0.064822</td>\n",
       "      <td>0.000478</td>\n",
       "      <td>0.760713</td>\n",
       "      <td>...</td>\n",
       "      <td>0</td>\n",
       "      <td>0</td>\n",
       "      <td>0.026063</td>\n",
       "      <td>2012</td>\n",
       "      <td>0</td>\n",
       "      <td>0</td>\n",
       "      <td>0</td>\n",
       "      <td>0</td>\n",
       "      <td>0</td>\n",
       "      <td>0.000730</td>\n",
       "    </tr>\n",
       "    <tr>\n",
       "      <th>2012-10-26</th>\n",
       "      <td>0.072181</td>\n",
       "      <td>0.064375</td>\n",
       "      <td>43</td>\n",
       "      <td>0.522178</td>\n",
       "      <td>0.165055</td>\n",
       "      <td>0.063107</td>\n",
       "      <td>0.801102</td>\n",
       "      <td>0.097548</td>\n",
       "      <td>0.072670</td>\n",
       "      <td>0.496028</td>\n",
       "      <td>...</td>\n",
       "      <td>0</td>\n",
       "      <td>0</td>\n",
       "      <td>0.916437</td>\n",
       "      <td>2012</td>\n",
       "      <td>0</td>\n",
       "      <td>0</td>\n",
       "      <td>0</td>\n",
       "      <td>0</td>\n",
       "      <td>0</td>\n",
       "      <td>0.073391</td>\n",
       "    </tr>\n",
       "    <tr>\n",
       "      <th>2012-10-26</th>\n",
       "      <td>0.098037</td>\n",
       "      <td>0.097114</td>\n",
       "      <td>43</td>\n",
       "      <td>0.700999</td>\n",
       "      <td>0.949400</td>\n",
       "      <td>0.020939</td>\n",
       "      <td>0.512024</td>\n",
       "      <td>0.174424</td>\n",
       "      <td>0.014648</td>\n",
       "      <td>0.282740</td>\n",
       "      <td>...</td>\n",
       "      <td>0</td>\n",
       "      <td>0</td>\n",
       "      <td>0.027253</td>\n",
       "      <td>2012</td>\n",
       "      <td>0</td>\n",
       "      <td>0</td>\n",
       "      <td>0</td>\n",
       "      <td>0</td>\n",
       "      <td>0</td>\n",
       "      <td>0.140418</td>\n",
       "    </tr>\n",
       "    <tr>\n",
       "      <th>2012-10-26</th>\n",
       "      <td>0.006234</td>\n",
       "      <td>0.007070</td>\n",
       "      <td>43</td>\n",
       "      <td>0.520553</td>\n",
       "      <td>0.654796</td>\n",
       "      <td>0.002316</td>\n",
       "      <td>0.706413</td>\n",
       "      <td>0.064803</td>\n",
       "      <td>0.005210</td>\n",
       "      <td>0.576312</td>\n",
       "      <td>...</td>\n",
       "      <td>0</td>\n",
       "      <td>0</td>\n",
       "      <td>0.451136</td>\n",
       "      <td>2012</td>\n",
       "      <td>0</td>\n",
       "      <td>0</td>\n",
       "      <td>0</td>\n",
       "      <td>0</td>\n",
       "      <td>0</td>\n",
       "      <td>0.014800</td>\n",
       "    </tr>\n",
       "  </tbody>\n",
       "</table>\n",
       "<p>374247 rows × 24 columns</p>\n",
       "</div>"
      ],
      "text/plain": [
       "                mean    median  Week  Temperature       CPI       max  \\\n",
       "Date                                                                    \n",
       "2010-02-05  0.208157  0.173215     5     0.328495  0.840500  0.088635   \n",
       "2010-02-05  0.004499  0.004767     5     0.278565  0.875680  0.001180   \n",
       "2010-02-05  0.009135  0.008968     5     0.278565  0.875680  0.003866   \n",
       "2010-02-05  0.085594  0.086290     5     0.233627  0.873861  0.018453   \n",
       "2010-02-05  0.080242  0.071542     5     0.278565  0.875680  0.044887   \n",
       "...              ...       ...   ...          ...       ...       ...   \n",
       "2012-10-26  0.087055  0.082590    43     0.647585  0.958935  0.030286   \n",
       "2012-10-26  0.001419  0.001617    43     0.602996  0.050698  0.000446   \n",
       "2012-10-26  0.072181  0.064375    43     0.522178  0.165055  0.063107   \n",
       "2012-10-26  0.098037  0.097114    43     0.700999  0.949400  0.020939   \n",
       "2012-10-26  0.006234  0.007070    43     0.520553  0.654796  0.002316   \n",
       "\n",
       "            Fuel_Price       min       std  Unemployment  ...  IsHoliday  \\\n",
       "Date                                                      ...              \n",
       "2010-02-05    0.050100  0.253530  0.138276      0.508787  ...          0   \n",
       "2010-02-05    0.050100  0.064648  0.004083      0.305248  ...          0   \n",
       "2010-02-05    0.050100  0.066212  0.004314      0.305248  ...          0   \n",
       "2010-02-05    0.050100  0.161046  0.010611      0.291286  ...          0   \n",
       "2010-02-05    0.050100  0.126993  0.054362      0.305248  ...          0   \n",
       "...                ...       ...       ...           ...  ...        ...   \n",
       "2012-10-26    0.518036  0.119050  0.039642      0.275758  ...          0   \n",
       "2012-10-26    0.916333  0.064822  0.000478      0.760713  ...          0   \n",
       "2012-10-26    0.801102  0.097548  0.072670      0.496028  ...          0   \n",
       "2012-10-26    0.512024  0.174424  0.014648      0.282740  ...          0   \n",
       "2012-10-26    0.706413  0.064803  0.005210      0.576312  ...          0   \n",
       "\n",
       "            Dept_3      Size  Year  Dept_11  Dept_9  Dept_1  Dept_5  Dept_56  \\\n",
       "Date                                                                           \n",
       "2010-02-05       0  0.630267  2010        0       0       1       0        0   \n",
       "2010-02-05       0  0.492338  2010        0       0       0       0        0   \n",
       "2010-02-05       0  0.492338  2010        0       0       0       0        0   \n",
       "2010-02-05       0  0.650636  2010        0       0       0       0        0   \n",
       "2010-02-05       0  0.492338  2010        0       0       0       0        0   \n",
       "...            ...       ...   ...      ...     ...     ...     ...      ...   \n",
       "2012-10-26       0  0.906277  2012        0       0       0       0        0   \n",
       "2012-10-26       0  0.026063  2012        0       0       0       0        0   \n",
       "2012-10-26       0  0.916437  2012        0       0       0       0        0   \n",
       "2012-10-26       0  0.027253  2012        0       0       0       0        0   \n",
       "2012-10-26       0  0.451136  2012        0       0       0       0        0   \n",
       "\n",
       "            Weekly_Sales  \n",
       "Date                      \n",
       "2010-02-05      0.342576  \n",
       "2010-02-05      0.009188  \n",
       "2010-02-05      0.009537  \n",
       "2010-02-05      0.118953  \n",
       "2010-02-05      0.152888  \n",
       "...                  ...  \n",
       "2012-10-26      0.127259  \n",
       "2012-10-26      0.000730  \n",
       "2012-10-26      0.073391  \n",
       "2012-10-26      0.140418  \n",
       "2012-10-26      0.014800  \n",
       "\n",
       "[374247 rows x 24 columns]"
      ]
     },
     "execution_count": 71,
     "metadata": {},
     "output_type": "execute_result"
    }
   ],
   "source": [
    "data"
   ]
  },
  {
   "cell_type": "code",
   "execution_count": 72,
   "metadata": {
    "id": "nwXO3Gr2Swqi"
   },
   "outputs": [],
   "source": [
    "data.to_csv('./datasets/final_data.csv')"
   ]
  },
  {
   "cell_type": "markdown",
   "metadata": {
    "id": "RZLnsdilCl_a"
   },
   "source": [
    "# **Data Splitted into Training, Validation, Test**"
   ]
  },
  {
   "cell_type": "code",
   "execution_count": 73,
   "metadata": {
    "id": "f1w7TQIwGwJk"
   },
   "outputs": [],
   "source": [
    "X = data.drop(['Weekly_Sales'],axis=1)\n",
    "Y = data.Weekly_Sales"
   ]
  },
  {
   "cell_type": "code",
   "execution_count": 74,
   "metadata": {
    "id": "LbPgLhyYGx05"
   },
   "outputs": [],
   "source": [
    "X_train,X_test,y_train,y_test = train_test_split(X,Y,test_size=0.20, random_state=50)"
   ]
  },
  {
   "cell_type": "markdown",
   "metadata": {
    "id": "FiOCbsBHEamQ"
   },
   "source": [
    "# **Linear Regression Model**"
   ]
  },
  {
   "cell_type": "code",
   "execution_count": 116,
   "metadata": {
    "colab": {
     "base_uri": "https://localhost:8080/"
    },
    "id": "GObi1cdpEUIR",
    "outputId": "87e39c00-9061-4ed3-fa52-cdd0f1835fe6"
   },
   "outputs": [
    {
     "data": {
      "text/plain": [
       "LinearRegression()"
      ]
     },
     "execution_count": 116,
     "metadata": {},
     "output_type": "execute_result"
    }
   ],
   "source": [
    "lr = LinearRegression()\n",
    "lr.fit(X_train, y_train)"
   ]
  },
  {
   "cell_type": "code",
   "execution_count": 117,
   "metadata": {
    "colab": {
     "base_uri": "https://localhost:8080/"
    },
    "id": "KJ70azPAp0uM",
    "outputId": "e9f3c978-5f71-471d-8bc8-536db9eff14b"
   },
   "outputs": [
    {
     "name": "stdout",
     "output_type": "stream",
     "text": [
      "Linear Regressor Accuracy -  92.28079698115756\n"
     ]
    }
   ],
   "source": [
    "lr_acc = lr.score(X_test,y_test)*100\n",
    "print(\"Linear Regressor Accuracy - \",lr_acc)"
   ]
  },
  {
   "cell_type": "code",
   "execution_count": 118,
   "metadata": {
    "id": "Wn49sKNLm1oz"
   },
   "outputs": [],
   "source": [
    "y_pred = lr.predict(X_test)"
   ]
  },
  {
   "cell_type": "code",
   "execution_count": 119,
   "metadata": {
    "colab": {
     "base_uri": "https://localhost:8080/"
    },
    "id": "b8VQDbKGpvYh",
    "outputId": "d4474478-ff27-4d42-97a4-1a5f2ea92a71"
   },
   "outputs": [
    {
     "name": "stdout",
     "output_type": "stream",
     "text": [
      "MAE 0.030057714921514645\n",
      "MSE 0.0034851431916206595\n",
      "RMSE 0.05903510135182847\n",
      "R2 0.9228079866096733\n"
     ]
    }
   ],
   "source": [
    "print(\"MAE\" , metrics.mean_absolute_error(y_test, y_pred))\n",
    "print(\"MSE\" , metrics.mean_squared_error(y_test, y_pred))\n",
    "print(\"RMSE\" , np.sqrt(metrics.mean_squared_error(y_test, y_pred)))\n",
    "print(\"R2\" , metrics.explained_variance_score(y_test, y_pred))"
   ]
  },
  {
   "cell_type": "code",
   "execution_count": 120,
   "metadata": {
    "colab": {
     "base_uri": "https://localhost:8080/",
     "height": 450
    },
    "id": "ka9fIILcp_7a",
    "outputId": "0a821614-0542-4554-dc53-c093cfc8980b"
   },
   "outputs": [
    {
     "data": {
      "text/html": [
       "<div>\n",
       "<style scoped>\n",
       "    .dataframe tbody tr th:only-of-type {\n",
       "        vertical-align: middle;\n",
       "    }\n",
       "\n",
       "    .dataframe tbody tr th {\n",
       "        vertical-align: top;\n",
       "    }\n",
       "\n",
       "    .dataframe thead th {\n",
       "        text-align: right;\n",
       "    }\n",
       "</style>\n",
       "<table border=\"1\" class=\"dataframe\">\n",
       "  <thead>\n",
       "    <tr style=\"text-align: right;\">\n",
       "      <th></th>\n",
       "      <th>Actual</th>\n",
       "      <th>Predicted</th>\n",
       "    </tr>\n",
       "    <tr>\n",
       "      <th>Date</th>\n",
       "      <th></th>\n",
       "      <th></th>\n",
       "    </tr>\n",
       "  </thead>\n",
       "  <tbody>\n",
       "    <tr>\n",
       "      <th>2011-08-05</th>\n",
       "      <td>0.161661</td>\n",
       "      <td>0.132555</td>\n",
       "    </tr>\n",
       "    <tr>\n",
       "      <th>2010-07-09</th>\n",
       "      <td>0.364278</td>\n",
       "      <td>0.280242</td>\n",
       "    </tr>\n",
       "    <tr>\n",
       "      <th>2011-07-01</th>\n",
       "      <td>0.005003</td>\n",
       "      <td>0.026085</td>\n",
       "    </tr>\n",
       "    <tr>\n",
       "      <th>2012-01-06</th>\n",
       "      <td>0.015856</td>\n",
       "      <td>0.015369</td>\n",
       "    </tr>\n",
       "    <tr>\n",
       "      <th>2011-08-26</th>\n",
       "      <td>0.000318</td>\n",
       "      <td>0.002072</td>\n",
       "    </tr>\n",
       "    <tr>\n",
       "      <th>...</th>\n",
       "      <td>...</td>\n",
       "      <td>...</td>\n",
       "    </tr>\n",
       "    <tr>\n",
       "      <th>2011-01-28</th>\n",
       "      <td>0.169068</td>\n",
       "      <td>0.236392</td>\n",
       "    </tr>\n",
       "    <tr>\n",
       "      <th>2010-08-20</th>\n",
       "      <td>0.252860</td>\n",
       "      <td>0.235591</td>\n",
       "    </tr>\n",
       "    <tr>\n",
       "      <th>2010-11-26</th>\n",
       "      <td>0.265617</td>\n",
       "      <td>0.321839</td>\n",
       "    </tr>\n",
       "    <tr>\n",
       "      <th>2010-03-12</th>\n",
       "      <td>0.008865</td>\n",
       "      <td>0.013607</td>\n",
       "    </tr>\n",
       "    <tr>\n",
       "      <th>2010-02-12</th>\n",
       "      <td>0.230510</td>\n",
       "      <td>0.235435</td>\n",
       "    </tr>\n",
       "  </tbody>\n",
       "</table>\n",
       "<p>74850 rows × 2 columns</p>\n",
       "</div>"
      ],
      "text/plain": [
       "              Actual  Predicted\n",
       "Date                           \n",
       "2011-08-05  0.161661   0.132555\n",
       "2010-07-09  0.364278   0.280242\n",
       "2011-07-01  0.005003   0.026085\n",
       "2012-01-06  0.015856   0.015369\n",
       "2011-08-26  0.000318   0.002072\n",
       "...              ...        ...\n",
       "2011-01-28  0.169068   0.236392\n",
       "2010-08-20  0.252860   0.235591\n",
       "2010-11-26  0.265617   0.321839\n",
       "2010-03-12  0.008865   0.013607\n",
       "2010-02-12  0.230510   0.235435\n",
       "\n",
       "[74850 rows x 2 columns]"
      ]
     },
     "execution_count": 120,
     "metadata": {},
     "output_type": "execute_result"
    }
   ],
   "source": [
    "lr_df = pd.DataFrame({'Actual': y_test, 'Predicted': y_pred})\n",
    "lr_df.to_csv('./predictions/lr_real_pred.csv')\n",
    "lr_df"
   ]
  },
  {
   "cell_type": "code",
   "execution_count": 121,
   "metadata": {
    "colab": {
     "base_uri": "https://localhost:8080/",
     "height": 373
    },
    "id": "OviT7YHa734C",
    "outputId": "110418b6-174e-4744-e7e1-4b9e7bf91452"
   },
   "outputs": [
    {
     "data": {
      "image/png": "[encoded data removed]",
      "text/plain": [
       "<Figure size 1440x576 with 1 Axes>"
      ]
     },
     "metadata": {
      "needs_background": "light"
     },
     "output_type": "display_data"
    }
   ],
   "source": [
    "plt.figure(figsize=(20,8))\n",
    "plt.plot(lr.predict(X_test[:200]), label=\"prediction\", linewidth=2.0,color='blue')\n",
    "plt.plot(y_test[:200].values, label=\"real_values\", linewidth=2.0,color='lightcoral')\n",
    "plt.legend(loc=\"best\")\n",
    "plt.savefig('plots/lr_real_pred.png')\n",
    "plt.show()"
   ]
  },
  {
   "cell_type": "markdown",
   "metadata": {
    "id": "pXIaHpK8PK3s"
   },
   "source": [
    "**Saving trained model**"
   ]
  },
  {
   "cell_type": "code",
   "execution_count": 122,
   "metadata": {
    "colab": {
     "base_uri": "https://localhost:8080/"
    },
    "id": "7yLrqOXgOtl-",
    "outputId": "7a971bbd-d115-4122-b5df-adc880c3ca90"
   },
   "outputs": [
    {
     "name": "stdout",
     "output_type": "stream",
     "text": [
      "Model already saved\n"
     ]
    }
   ],
   "source": [
    "pkl_filename = \"./models/linear_regressor.pkl\"\n",
    "if (not path.isfile(pkl_filename)):\n",
    "  # saving the trained model to disk \n",
    "  with open(pkl_filename, 'wb') as file:\n",
    "    pickle.dump(lr, file)\n",
    "  print(\"Saved model to disk\")\n",
    "else:\n",
    "  print(\"Model already saved\")"
   ]
  },
  {
   "cell_type": "markdown",
   "metadata": {
    "id": "6I2zqASfuObu"
   },
   "source": [
    "# **Random Forest Regressor Model**"
   ]
  },
  {
   "cell_type": "code",
   "execution_count": 1,
   "metadata": {
    "colab": {
     "base_uri": "https://localhost:8080/"
    },
    "id": "ru1aLqD5NuXW",
    "outputId": "e0738be9-0efb-49ff-f081-0713517e9764"
   },
   "outputs": [
    {
     "ename": "NameError",
     "evalue": "name 'RandomForestRegressor' is not defined",
     "output_type": "error",
     "traceback": [
      "\u001b[1;31m---------------------------------------------------------------------------\u001b[0m",
      "\u001b[1;31mNameError\u001b[0m                                 Traceback (most recent call last)",
      "\u001b[1;32m~\\AppData\\Local\\Temp/ipykernel_8048/3689953576.py\u001b[0m in \u001b[0;36m<module>\u001b[1;34m\u001b[0m\n\u001b[1;32m----> 1\u001b[1;33m \u001b[0mrf\u001b[0m \u001b[1;33m=\u001b[0m \u001b[0mRandomForestRegressor\u001b[0m\u001b[1;33m(\u001b[0m\u001b[1;33m)\u001b[0m\u001b[1;33m\u001b[0m\u001b[1;33m\u001b[0m\u001b[0m\n\u001b[0m\u001b[0;32m      2\u001b[0m \u001b[0mrf\u001b[0m\u001b[1;33m.\u001b[0m\u001b[0mfit\u001b[0m\u001b[1;33m(\u001b[0m\u001b[0mX_train\u001b[0m\u001b[1;33m,\u001b[0m \u001b[0my_train\u001b[0m\u001b[1;33m)\u001b[0m\u001b[1;33m\u001b[0m\u001b[1;33m\u001b[0m\u001b[0m\n",
      "\u001b[1;31mNameError\u001b[0m: name 'RandomForestRegressor' is not defined"
     ]
    }
   ],
   "source": [
    "rf = RandomForestRegressor()\n",
    "rf.fit(X_train, y_train)"
   ]
  },
  {
   "cell_type": "code",
   "execution_count": null,
   "metadata": {
    "colab": {
     "base_uri": "https://localhost:8080/"
    },
    "id": "hTo1gEdV0YW0",
    "outputId": "13d6cba9-bc04-4005-b770-66fd86d99751"
   },
   "outputs": [],
   "source": [
    "rf_acc = rf.score(X_test,y_test)*100\n",
    "print(\"Random Forest Regressor Accuracy - \",rf_acc)"
   ]
  },
  {
   "cell_type": "code",
   "execution_count": null,
   "metadata": {
    "id": "vy8dstN0N6KC"
   },
   "outputs": [],
   "source": [
    "y_pred = rf.predict(X_test)"
   ]
  },
  {
   "cell_type": "code",
   "execution_count": null,
   "metadata": {
    "colab": {
     "base_uri": "https://localhost:8080/"
    },
    "id": "jgogTJ8mOLR-",
    "outputId": "7819dfea-92c4-4ee0-9266-ac254734f1ae"
   },
   "outputs": [],
   "source": [
    "print(\"MAE\" , metrics.mean_absolute_error(y_test, y_pred))\n",
    "print(\"MSE\" , metrics.mean_squared_error(y_test, y_pred))\n",
    "print(\"RMSE\" , np.sqrt(metrics.mean_squared_error(y_test, y_pred)))\n",
    "print(\"R2\" , metrics.explained_variance_score(y_test, y_pred))"
   ]
  },
  {
   "cell_type": "code",
   "execution_count": null,
   "metadata": {
    "colab": {
     "base_uri": "https://localhost:8080/",
     "height": 450
    },
    "id": "-sYJGPXUJdxN",
    "outputId": "951413dd-c145-4b04-f8cb-48b4c9bcc58c"
   },
   "outputs": [],
   "source": [
    "rf_df = pd.DataFrame({'Actual': y_test, 'Predicted': y_pred})\n",
    "rf_df.to_csv('./predictions/rf_real_pred.csv')\n",
    "rf_df"
   ]
  },
  {
   "cell_type": "code",
   "execution_count": null,
   "metadata": {
    "colab": {
     "base_uri": "https://localhost:8080/",
     "height": 373
    },
    "id": "ZWRLVDUVuYcg",
    "outputId": "514a3bf5-cf34-402e-d4b0-61307834c61b"
   },
   "outputs": [],
   "source": [
    "plt.figure(figsize=(20,8))\n",
    "plt.plot(rf.predict(X_test[:200]), label=\"prediction\", linewidth=2.0,color='blue')\n",
    "plt.plot(y_test[:200].values, label=\"real_values\", linewidth=2.0,color='lightcoral')\n",
    "plt.legend(loc=\"best\")\n",
    "plt.savefig('plots/rf_real_pred.png')\n",
    "plt.show()"
   ]
  },
  {
   "cell_type": "markdown",
   "metadata": {
    "id": "EcDdW-jtPR9N"
   },
   "source": [
    "**Saving trained model**"
   ]
  },
  {
   "cell_type": "code",
   "execution_count": null,
   "metadata": {
    "colab": {
     "base_uri": "https://localhost:8080/"
    },
    "id": "PPvinsaLPEPW",
    "outputId": "961d6b55-9416-4f20-eb99-df145069f03e"
   },
   "outputs": [],
   "source": [
    "pkl_filename = \"./models/randomforest_regressor.pkl\"\n",
    "if (not path.isfile(pkl_filename)):\n",
    "  # saving the trained model to disk \n",
    "  with open(pkl_filename, 'wb') as file:\n",
    "    pickle.dump(rf, file)\n",
    "  print(\"Saved model to disk\")\n",
    "else:\n",
    "  print(\"Model already saved\")"
   ]
  },
  {
   "cell_type": "markdown",
   "metadata": {
    "id": "9SFmOC4mts5P"
   },
   "source": [
    "# **K Neighbors Regressor Model**"
   ]
  },
  {
   "cell_type": "code",
   "execution_count": null,
   "metadata": {
    "colab": {
     "base_uri": "https://localhost:8080/"
    },
    "id": "0vebViPYRU0Y",
    "outputId": "fe9ac5b9-7c7d-46ed-f523-26c970186ffb"
   },
   "outputs": [],
   "source": [
    "knn = KNeighborsRegressor(n_neighbors = 1,weights = 'uniform')\n",
    "knn.fit(X_train,y_train)"
   ]
  },
  {
   "cell_type": "code",
   "execution_count": null,
   "metadata": {
    "colab": {
     "base_uri": "https://localhost:8080/"
    },
    "id": "PPYjwqJU317e",
    "outputId": "0cca5ea4-a998-47a2-d687-8865d4a605e9"
   },
   "outputs": [],
   "source": [
    "knn_acc = knn.score(X_test, y_test)*100\n",
    "print(\"KNeigbhbors Regressor Accuracy - \",knn_acc)"
   ]
  },
  {
   "cell_type": "code",
   "execution_count": null,
   "metadata": {
    "id": "6SgJLFa5RnjF"
   },
   "outputs": [],
   "source": [
    "y_pred = knn.predict(X_test)"
   ]
  },
  {
   "cell_type": "code",
   "execution_count": null,
   "metadata": {
    "colab": {
     "base_uri": "https://localhost:8080/"
    },
    "id": "CsuyAxsuUI4h",
    "outputId": "14269138-1b1e-4629-8652-4793bd1786f4"
   },
   "outputs": [],
   "source": [
    "print(\"MAE\" , metrics.mean_absolute_error(y_test, y_pred))\n",
    "print(\"MSE\" , metrics.mean_squared_error(y_test, y_pred))\n",
    "print(\"RMSE\" , np.sqrt(metrics.mean_squared_error(y_test, y_pred)))\n",
    "print(\"R2\" , metrics.explained_variance_score(y_test, y_pred))"
   ]
  },
  {
   "cell_type": "code",
   "execution_count": null,
   "metadata": {
    "colab": {
     "base_uri": "https://localhost:8080/",
     "height": 450
    },
    "id": "iq9SiX1aKNOf",
    "outputId": "0bd18285-906e-40c3-9191-0c17292fb7c1"
   },
   "outputs": [],
   "source": [
    "knn_df = pd.DataFrame({'Actual': y_test, 'Predicted': y_pred})\n",
    "knn_df.to_csv('./predictions/knn_real_pred.csv')\n",
    "knn_df"
   ]
  },
  {
   "cell_type": "code",
   "execution_count": null,
   "metadata": {
    "colab": {
     "base_uri": "https://localhost:8080/",
     "height": 373
    },
    "id": "9kQLv80JueY5",
    "outputId": "3d6fed28-ae91-4cbf-b5a9-300064ebfa96"
   },
   "outputs": [],
   "source": [
    "plt.figure(figsize=(20,8))\n",
    "plt.plot(knn.predict(X_test[:200]), label=\"prediction\", linewidth=2.0,color='blue')\n",
    "plt.plot(y_test[:200].values, label=\"real_values\", linewidth=2.0,color='lightcoral')\n",
    "plt.legend(loc=\"best\")\n",
    "plt.savefig('plots/knn_real_pred.png')\n",
    "plt.show()"
   ]
  },
  {
   "cell_type": "markdown",
   "metadata": {
    "id": "EX_Hw4BdPYCM"
   },
   "source": [
    "**Saving trained model**"
   ]
  },
  {
   "cell_type": "code",
   "execution_count": null,
   "metadata": {
    "colab": {
     "base_uri": "https://localhost:8080/"
    },
    "id": "xBIx-1GGPV--",
    "outputId": "791e3419-849b-47a4-c8bf-ea2385b30378"
   },
   "outputs": [],
   "source": [
    "pkl_filename = \"./models/knn_regressor.pkl\"\n",
    "if (not path.isfile(pkl_filename)):\n",
    "  # saving the trained model to disk \n",
    "  with open(pkl_filename, 'wb') as file:\n",
    "    pickle.dump(knn, file)\n",
    "  print(\"Saved model to disk\")\n",
    "else:\n",
    "  print(\"Model already saved\")"
   ]
  },
  {
   "cell_type": "markdown",
   "metadata": {
    "id": "TOzzlSMHt21a"
   },
   "source": [
    "# **XGboost Model**"
   ]
  },
  {
   "cell_type": "code",
   "execution_count": null,
   "metadata": {
    "colab": {
     "base_uri": "https://localhost:8080/"
    },
    "id": "ZZFqcVxlTNiR",
    "outputId": "514e822f-b715-4b68-9d18-21a8f0b26e00"
   },
   "outputs": [],
   "source": [
    "xgbr = XGBRegressor()\n",
    "xgbr.fit(X_train, y_train)"
   ]
  },
  {
   "cell_type": "code",
   "execution_count": null,
   "metadata": {
    "colab": {
     "base_uri": "https://localhost:8080/"
    },
    "id": "vr9wTu69u15l",
    "outputId": "c8b65a48-7b99-4c18-8767-418b13413045"
   },
   "outputs": [],
   "source": [
    "xgb_acc = xgbr.score(X_test,y_test)*100\n",
    "print(\"XGBoost Regressor Accuracy - \",xgb_acc)"
   ]
  },
  {
   "cell_type": "code",
   "execution_count": null,
   "metadata": {
    "id": "x78KoQy9UQQZ"
   },
   "outputs": [],
   "source": [
    "y_pred = xgbr.predict(X_test)"
   ]
  },
  {
   "cell_type": "code",
   "execution_count": null,
   "metadata": {
    "colab": {
     "base_uri": "https://localhost:8080/"
    },
    "id": "hRgxQX8OT7NG",
    "outputId": "93a9e36a-4a2a-4f33-8093-67401fad2a44"
   },
   "outputs": [],
   "source": [
    "print(\"MAE\" , metrics.mean_absolute_error(y_test, y_pred))\n",
    "print(\"MSE\" , metrics.mean_squared_error(y_test, y_pred))\n",
    "print(\"RMSE\" , np.sqrt(metrics.mean_squared_error(y_test, y_pred)))\n",
    "print(\"R2\" , metrics.explained_variance_score(y_test, y_pred))"
   ]
  },
  {
   "cell_type": "code",
   "execution_count": null,
   "metadata": {
    "colab": {
     "base_uri": "https://localhost:8080/",
     "height": 450
    },
    "id": "8xXtS9ofKy9t",
    "outputId": "3598167b-c3f5-49b3-db6f-647d31c364bf"
   },
   "outputs": [],
   "source": [
    "xgb_df = pd.DataFrame({'Actual': y_test, 'Predicted': y_pred})\n",
    "xgb_df.to_csv('./predictions/xgb_real_pred.csv')\n",
    "xgb_df"
   ]
  },
  {
   "cell_type": "code",
   "execution_count": null,
   "metadata": {
    "colab": {
     "base_uri": "https://localhost:8080/",
     "height": 373
    },
    "id": "bSdBrt_1uwMl",
    "outputId": "c5343492-3b10-4069-a5c0-033b72474642"
   },
   "outputs": [],
   "source": [
    "plt.figure(figsize=(20,8))\n",
    "plt.plot(xgbr.predict(X_test[:200]), label=\"prediction\", linewidth=2.0,color='blue')\n",
    "plt.plot(y_test[:200].values, label=\"real_values\", linewidth=2.0,color='lightcoral')\n",
    "plt.legend(loc=\"best\")\n",
    "plt.savefig('plots/xgb_real_pred.png')\n",
    "plt.show()"
   ]
  },
  {
   "cell_type": "markdown",
   "metadata": {
    "id": "hXcVrDXDPiuj"
   },
   "source": [
    "**Saving trained model**"
   ]
  },
  {
   "cell_type": "code",
   "execution_count": null,
   "metadata": {
    "colab": {
     "base_uri": "https://localhost:8080/"
    },
    "id": "W_a_SEXzPeqr",
    "outputId": "d8abeb40-f2bd-4067-b134-d8ca650dabc4"
   },
   "outputs": [],
   "source": [
    "pkl_filename = \"./models/xgboost_regressor.pkl\"\n",
    "if (not path.isfile(pkl_filename)):\n",
    "  # saving the trained model to disk \n",
    "  with open(pkl_filename, 'wb') as file:\n",
    "    pickle.dump(xgbr, file)\n",
    "  print(\"Saved model to disk\")\n",
    "else:\n",
    "  print(\"Model already saved\")"
   ]
  },
  {
   "cell_type": "markdown",
   "metadata": {
    "id": "aU-RwzpPtOUi"
   },
   "source": [
    "# **Custom Deep Learning Neural Network**"
   ]
  },
  {
   "cell_type": "code",
   "execution_count": null,
   "metadata": {
    "id": "05ClxiEzBV52"
   },
   "outputs": [],
   "source": [
    "def create_model():\n",
    "  model = Sequential()\n",
    "  model.add(Dense(64, input_dim=X_train.shape[1], kernel_initializer='normal',activation='relu'))\n",
    "  model.add(Dense(32, kernel_initializer='normal'))\n",
    "  model.add(Dense(1, kernel_initializer='normal'))\n",
    "  model.compile(loss='mean_absolute_error', optimizer='adam')\n",
    "  return model"
   ]
  },
  {
   "cell_type": "code",
   "execution_count": null,
   "metadata": {
    "id": "9AFUTZYzrbQq"
   },
   "outputs": [],
   "source": [
    "estimator_model = KerasRegressor(build_fn=create_model, verbose=1)"
   ]
  },
  {
   "cell_type": "code",
   "execution_count": null,
   "metadata": {
    "colab": {
     "base_uri": "https://localhost:8080/"
    },
    "id": "zNjHWt7u7n-_",
    "outputId": "bd2bcd4f-c4f5-4d4b-a778-b9de299227c2"
   },
   "outputs": [],
   "source": [
    "history = estimator_model.fit(X_train, y_train, validation_split=0.2, epochs=100, batch_size=5000)"
   ]
  },
  {
   "cell_type": "code",
   "execution_count": null,
   "metadata": {
    "colab": {
     "base_uri": "https://localhost:8080/",
     "height": 295
    },
    "id": "G4FA1lySBf_3",
    "outputId": "9fdc70b3-3030-4d4c-f0d8-883b205cb4db"
   },
   "outputs": [],
   "source": [
    "plt.figure(figsize=(8,4))\n",
    "plt.plot(history.history['loss'], label='Train Loss')\n",
    "plt.plot(history.history['val_loss'], label='Test Loss')\n",
    "plt.title('model loss')\n",
    "plt.ylabel('loss')\n",
    "plt.xlabel('epochs')\n",
    "plt.legend(loc='upper right')\n",
    "plt.savefig('plots/dnn_loss.png')\n",
    "plt.show()"
   ]
  },
  {
   "cell_type": "code",
   "execution_count": null,
   "metadata": {
    "colab": {
     "base_uri": "https://localhost:8080/"
    },
    "id": "6UivH_RbcXf8",
    "outputId": "eff8c589-91b9-4166-cb02-17ad0bf1e67a"
   },
   "outputs": [],
   "source": [
    "dnn_acc = metrics.r2_score(y_pred, y_test)*100\n",
    "print(\"Deep Neural Network accuracy - \",dnn_acc)"
   ]
  },
  {
   "cell_type": "code",
   "execution_count": null,
   "metadata": {
    "colab": {
     "base_uri": "https://localhost:8080/"
    },
    "id": "V557EbcTlDpI",
    "outputId": "6721d553-1755-4b53-ab25-ea4728d4b1aa"
   },
   "outputs": [],
   "source": [
    "y_pred = estimator_model.predict(X_test)"
   ]
  },
  {
   "cell_type": "code",
   "execution_count": null,
   "metadata": {
    "colab": {
     "base_uri": "https://localhost:8080/"
    },
    "id": "O1dcLQ_V1l_z",
    "outputId": "5541a339-2459-42bb-d026-5c29a96f1477"
   },
   "outputs": [],
   "source": [
    "print(\"MAE\" , metrics.mean_absolute_error(y_test, y_pred))\n",
    "print(\"MSE\" , metrics.mean_squared_error(y_test, y_pred))\n",
    "print(\"RMSE\" , np.sqrt(metrics.mean_squared_error(y_test, y_pred)))\n",
    "print(\"R2\" , metrics.explained_variance_score(y_test, y_pred))"
   ]
  },
  {
   "cell_type": "code",
   "execution_count": null,
   "metadata": {
    "colab": {
     "base_uri": "https://localhost:8080/",
     "height": 450
    },
    "id": "G2t4xqhXsdT-",
    "outputId": "eceff353-5470-44b7-d2ca-73e6459ce984"
   },
   "outputs": [],
   "source": [
    "dnn_df = pd.DataFrame({'Actual': y_test, 'Predicted': y_pred})\n",
    "dnn_df.to_csv('./predictions/dnn_real_pred.csv')\n",
    "dnn_df"
   ]
  },
  {
   "cell_type": "code",
   "execution_count": null,
   "metadata": {
    "colab": {
     "base_uri": "https://localhost:8080/",
     "height": 407
    },
    "id": "SePu7AAlsi0x",
    "outputId": "99ad979b-e744-44af-e305-289e9fa5286c"
   },
   "outputs": [],
   "source": [
    "plt.figure(figsize=(20,8))\n",
    "plt.plot(estimator_model.predict(X_test[200:300]), label=\"prediction\", linewidth=2.0,color='blue')\n",
    "plt.plot(y_test[200:300].values, label=\"real_values\", linewidth=2.0,color='lightcoral')\n",
    "plt.savefig('plots/dnn_real_pred.png')\n",
    "plt.legend(loc=\"best\")"
   ]
  },
  {
   "cell_type": "code",
   "execution_count": null,
   "metadata": {
    "colab": {
     "base_uri": "https://localhost:8080/"
    },
    "id": "tyVghkS73Fk2",
    "outputId": "59b67563-ada1-48c3-a4e3-6a061eaf0040"
   },
   "outputs": [],
   "source": [
    "filepath = './models/dnn_regressor.json'\n",
    "weightspath = './models/dnn_regressor.h5'\n",
    "if (not path.isfile(filepath)):\n",
    "  # serialize model to JSON\n",
    "  model_json = estimator_model.model.to_json()\n",
    "  with open(filepath, \"w\") as json_file:\n",
    "    json_file.write(model_json)\n",
    "  print(\"Saved model to disk\")\n",
    "else:\n",
    "  print(\"Model already saved\")"
   ]
  },
  {
   "cell_type": "markdown",
   "metadata": {
    "id": "qxFV9nDL-kAy"
   },
   "source": [
    "# **Comparing Models**"
   ]
  },
  {
   "cell_type": "code",
   "execution_count": null,
   "metadata": {
    "id": "3cQSCxKI8tDv"
   },
   "outputs": [],
   "source": [
    "acc = {'model':['lr_acc','rf_acc','knn_acc','xgb_acc','dnn_acc'],'accuracy':[lr_acc,rf_acc,knn_acc,xgb_acc,dnn_acc]}"
   ]
  },
  {
   "cell_type": "code",
   "execution_count": null,
   "metadata": {
    "colab": {
     "base_uri": "https://localhost:8080/",
     "height": 204
    },
    "id": "oB1C0JGU9aV7",
    "outputId": "16333371-be0a-4ffd-aea2-94807fc408db"
   },
   "outputs": [],
   "source": [
    "acc_df = pd.DataFrame(acc)\n",
    "acc_df"
   ]
  },
  {
   "cell_type": "code",
   "execution_count": null,
   "metadata": {
    "colab": {
     "base_uri": "https://localhost:8080/",
     "height": 498
    },
    "id": "werapmWo8QKs",
    "outputId": "1d8eed4b-e198-4bfe-c2b2-929d52f2b905"
   },
   "outputs": [],
   "source": [
    "plt.figure(figsize=(10,8))\n",
    "sns.barplot(x='model',y='accuracy',data=acc_df)\n",
    "plt.savefig('plots/compared_models.png')\n",
    "plt.show()"
   ]
  },
  {
   "cell_type": "code",
   "execution_count": null,
   "metadata": {},
   "outputs": [],
   "source": []
  }
 ],
 "metadata": {
  "colab": {
   "collapsed_sections": [],
   "name": "Walmart-Time-Series-Forecast.ipynb",
   "provenance": []
  },
  "kernelspec": {
   "display_name": "Python 3 (ipykernel)",
   "language": "python",
   "name": "python3"
  },
  "language_info": {
   "codemirror_mode": {
    "name": "ipython",
    "version": 3
   },
   "file_extension": ".py",
   "mimetype": "text/x-python",
   "name": "python",
   "nbconvert_exporter": "python",
   "pygments_lexer": "ipython3",
   "version": "3.7.11"
  }
 },
 "nbformat": 4,
 "nbformat_minor": 1
}
